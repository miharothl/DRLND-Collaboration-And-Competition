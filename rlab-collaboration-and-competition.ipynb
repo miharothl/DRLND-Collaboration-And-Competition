{
 "cells": [
  {
   "cell_type": "markdown",
   "metadata": {},
   "source": [
    "# Collaboration and Competition"
   ]
  },
  {
   "cell_type": "code",
   "execution_count": 1,
   "metadata": {},
   "outputs": [],
   "source": [
    "%matplotlib inline\n",
    "\n",
    "from drl import drl_logger, EPOCH, EPISODE, STEP\n",
    "from drl.experiment.analyser import Analyzer\n",
    "from drl.experiment.configuration import Configuration\n",
    "from drl.experiment.experiment import Experiment\n",
    "from drl.experiment.config.experiment_config import ExperimentConfig\n",
    "from drl.experiment.explorer import Explorer\n",
    "from drl.logging import init_logging, set_logging_level, transform_verbose_count_to_logging_level"
   ]
  },
  {
   "cell_type": "code",
   "execution_count": 2,
   "metadata": {},
   "outputs": [],
   "source": [
    "init_logging(EPISODE)"
   ]
  },
  {
   "cell_type": "markdown",
   "metadata": {},
   "source": [
    "## Training Parameters"
   ]
  },
  {
   "cell_type": "code",
   "execution_count": 3,
   "metadata": {},
   "outputs": [],
   "source": [
    "config = Configuration()\n",
    "config.set_current_exp_cfg(\"tennis-linux\")"
   ]
  },
  {
   "cell_type": "markdown",
   "metadata": {},
   "source": [
    "### Agent"
   ]
  },
  {
   "cell_type": "code",
   "execution_count": 4,
   "metadata": {},
   "outputs": [
    {
     "name": "stdout",
     "output_type": "stream",
     "text": [
      "Action Size: 2\n",
      "State Size:  24\n"
     ]
    }
   ],
   "source": [
    "cfg = config.get_current_exp_cfg()\n",
    "\n",
    "print(\"Action Size: {}\".format(cfg.agent_cfg.action_size))\n",
    "print(\"State Size:  {}\".format(cfg.agent_cfg.state_size))"
   ]
  },
  {
   "cell_type": "markdown",
   "metadata": {},
   "source": [
    "### Hyper Parameters \n",
    "\n",
    "#### Epoch Configuration"
   ]
  },
  {
   "cell_type": "code",
   "execution_count": 5,
   "metadata": {},
   "outputs": [
    {
     "name": "stdout",
     "output_type": "stream",
     "text": [
      "Max Steps:            150000\n",
      "Max Episode Steps:    1000\n",
      "Evaluation Frequency: 10000\n",
      "Evaluation Steps:     2000\n"
     ]
    }
   ],
   "source": [
    "print(\"Max Steps:            {}\".format(cfg.trainer_cfg.max_steps))\n",
    "print(\"Max Episode Steps:    {}\".format(cfg.trainer_cfg.max_episode_steps))\n",
    "print(\"Evaluation Frequency: {}\".format(cfg.trainer_cfg.eval_frequency))\n",
    "print(\"Evaluation Steps:     {}\".format(cfg.trainer_cfg.eval_steps))"
   ]
  },
  {
   "cell_type": "markdown",
   "metadata": {},
   "source": [
    "One Epoch contains:\n",
    "\n",
    "* number of training episodes = evaluation frequency / max episode steps\n",
    "* number of validation episoded = evaluatin steps / max episode steps"
   ]
  },
  {
   "cell_type": "code",
   "execution_count": 6,
   "metadata": {},
   "outputs": [
    {
     "name": "stdout",
     "output_type": "stream",
     "text": [
      "Max number of training episodes in epoch:   10\n",
      "Max number of validation episodes in epoch: 2\n"
     ]
    }
   ],
   "source": [
    "print(\"Max number of training episodes in epoch:   {}\".format(int(cfg.trainer_cfg.eval_frequency/cfg.trainer_cfg.max_episode_steps)))\n",
    "print(\"Max number of validation episodes in epoch: {}\".format(int(cfg.trainer_cfg.eval_steps/cfg.trainer_cfg.max_episode_steps)))"
   ]
  },
  {
   "cell_type": "code",
   "execution_count": 7,
   "metadata": {},
   "outputs": [
    {
     "name": "stdout",
     "output_type": "stream",
     "text": [
      "RL Algorithm:         ddpg\n",
      "Epsilon Start:        1.5\n",
      "Epsilon End:          0.1\n",
      "Epsilon Decay:        0.998\n",
      "Actor Learning Rate:  0.0001\n",
      "Critic Learning Rate: 0.0003\n",
      "Weight Decay:         0\n"
     ]
    }
   ],
   "source": [
    "print(\"RL Algorithm:         {}\".format(cfg.reinforcement_learning_cfg.algorithm_type))\n",
    "print(\"Epsilon Start:        {}\".format(cfg.reinforcement_learning_cfg.ddpg_cfg.epsilon_start))\n",
    "print(\"Epsilon End:          {}\".format(cfg.reinforcement_learning_cfg.ddpg_cfg.epsilon_end))\n",
    "print(\"Epsilon Decay:        {}\".format(cfg.reinforcement_learning_cfg.ddpg_cfg.epsilon_decay))\n",
    "print(\"Actor Learning Rate:  {}\".format(cfg.reinforcement_learning_cfg.ddpg_cfg.lr_actor))\n",
    "print(\"Critic Learning Rate: {}\".format(cfg.reinforcement_learning_cfg.ddpg_cfg.lr_critic))\n",
    "print(\"Weight Decay:         {}\".format(cfg.reinforcement_learning_cfg.ddpg_cfg.weight_decay))"
   ]
  },
  {
   "cell_type": "markdown",
   "metadata": {},
   "source": [
    "#### Neural Network Configuration"
   ]
  },
  {
   "cell_type": "code",
   "execution_count": 8,
   "metadata": {},
   "outputs": [
    {
     "name": "stdout",
     "output_type": "stream",
     "text": [
      "Actor Hidden Layers Units:  [256, 128]\n",
      "Critic Hidden Layers Units: [256, 128]\n",
      "Gamma:                      0.99\n",
      "Tau:                        0.001\n",
      "Update Every:               2\n",
      "Number of Updates:          4\n"
     ]
    }
   ],
   "source": [
    "print(\"Actor Hidden Layers Units:  {}\".format(cfg.reinforcement_learning_cfg.ddpg_cfg.actor_model_cfg.hidden_layers))\n",
    "print(\"Critic Hidden Layers Units: {}\".format(cfg.reinforcement_learning_cfg.ddpg_cfg.critic_model_cfg.hidden_layers))\n",
    "print(\"Gamma:                      {}\".format(cfg.trainer_cfg.gamma))\n",
    "print(\"Tau:                        {}\".format(cfg.trainer_cfg.tau))\n",
    "print(\"Update Every:               {}\".format(cfg.trainer_cfg.update_every))\n",
    "print(\"Number of Updates:          {}\".format(cfg.trainer_cfg.num_updates))"
   ]
  },
  {
   "cell_type": "markdown",
   "metadata": {},
   "source": [
    "#### Replay Memory"
   ]
  },
  {
   "cell_type": "code",
   "execution_count": 9,
   "metadata": {},
   "outputs": [
    {
     "name": "stdout",
     "output_type": "stream",
     "text": [
      "Buffer Size:              100000\n",
      "Batch size:               128\n",
      "Use Prioritized Replay:   True\n",
      "Prioritized replay alpha: 0.6\n",
      "Prioritized replay beta0: 0.4\n",
      "Prioritized replay eps:   1e-06\n"
     ]
    }
   ],
   "source": [
    "print(\"Buffer Size:              {}\".format(cfg.replay_memory_cfg.buffer_size))\n",
    "print(\"Batch size:               {}\".format(cfg.trainer_cfg.batch_size))\n",
    "print(\"Use Prioritized Replay:   {}\".format(cfg.replay_memory_cfg.prioritized_replay))\n",
    "print(\"Prioritized replay alpha: {}\".format(cfg.replay_memory_cfg.prioritized_replay_alpha))\n",
    "print(\"Prioritized replay beta0: {}\".format(cfg.replay_memory_cfg.prioritized_replay_beta0))\n",
    "print(\"Prioritized replay eps:   {}\".format(cfg.replay_memory_cfg.prioritized_replay_eps))\n"
   ]
  },
  {
   "cell_type": "markdown",
   "metadata": {},
   "source": [
    "## Training"
   ]
  },
  {
   "cell_type": "code",
   "execution_count": 10,
   "metadata": {},
   "outputs": [],
   "source": [
    "experiment = Experiment(config)"
   ]
  },
  {
   "cell_type": "code",
   "execution_count": null,
   "metadata": {},
   "outputs": [
    {
     "name": "stdout",
     "output_type": "stream",
     "text": [
      "2020-10-10 08:35:50,970 - drl - INFO - Initializing environment.' - {'name': 'env/unity/linux/tennis-novis/Tennis.x86_64'}\n"
     ]
    },
    {
     "name": "stderr",
     "output_type": "stream",
     "text": [
      "INFO:unityagents:\n",
      "'Academy' started successfully!\n",
      "Unity Academy name: Academy\n",
      "        Number of Brains: 1\n",
      "        Number of External Brains : 1\n",
      "        Lesson number : 0\n",
      "        Reset Parameters :\n",
      "\t\t\n",
      "Unity brain name: TennisBrain\n",
      "        Number of Visual Observations (per agent): 0\n",
      "        Vector Observation space type: continuous\n",
      "        Vector Observation space size (per agent): 8\n",
      "        Number of stacked Vector Observation: 3\n",
      "        Vector Action space type: continuous\n",
      "        Vector Action space size (per agent): 2\n",
      "        Vector Action descriptions: , \n"
     ]
    },
    {
     "name": "stdout",
     "output_type": "stream",
     "text": [
      "2020-10-10 08:35:52,860 - drl - EPISODE - Train. - {'step': 15, 'episode': 0, 'epoch': 0, 'epoch_step': 15, 'epoch_episode': 1, 'episode_step': 14, 'score': '0.000', 'eps': '1.500', 'elapsed': '2s'}\n",
      "2020-10-10 08:35:54,285 - drl - EPISODE - Train. - {'step': 29, 'episode': 1, 'epoch': 0, 'epoch_step': 29, 'epoch_episode': 2, 'episode_step': 13, 'score': '0.000', 'eps': '1.497', 'elapsed': '1s'}\n",
      "2020-10-10 08:35:55,693 - drl - EPISODE - Train. - {'step': 43, 'episode': 2, 'epoch': 0, 'epoch_step': 43, 'epoch_episode': 3, 'episode_step': 13, 'score': '0.000', 'eps': '1.494', 'elapsed': '1s'}\n",
      "2020-10-10 08:36:01,299 - drl - EPISODE - Train. - {'step': 96, 'episode': 3, 'epoch': 0, 'epoch_step': 96, 'epoch_episode': 4, 'episode_step': 52, 'score': '0.100', 'eps': '1.491', 'elapsed': '6s'}\n",
      "2020-10-10 08:36:02,839 - drl - EPISODE - Train. - {'step': 110, 'episode': 4, 'epoch': 0, 'epoch_step': 110, 'epoch_episode': 5, 'episode_step': 13, 'score': '0.000', 'eps': '1.488', 'elapsed': '2s'}\n",
      "2020-10-10 08:36:04,450 - drl - EPISODE - Train. - {'step': 125, 'episode': 5, 'epoch': 0, 'epoch_step': 125, 'epoch_episode': 6, 'episode_step': 14, 'score': '0.000', 'eps': '1.485', 'elapsed': '2s'}\n",
      "2020-10-10 08:36:06,015 - drl - EPISODE - Train. - {'step': 139, 'episode': 6, 'epoch': 0, 'epoch_step': 139, 'epoch_episode': 7, 'episode_step': 13, 'score': '0.000', 'eps': '1.482', 'elapsed': '2s'}\n",
      "2020-10-10 08:36:07,557 - drl - EPISODE - Train. - {'step': 153, 'episode': 7, 'epoch': 0, 'epoch_step': 153, 'epoch_episode': 8, 'episode_step': 13, 'score': '0.000', 'eps': '1.479', 'elapsed': '2s'}\n",
      "2020-10-10 08:36:09,093 - drl - EPISODE - Train. - {'step': 167, 'episode': 8, 'epoch': 0, 'epoch_step': 167, 'epoch_episode': 9, 'episode_step': 13, 'score': '0.000', 'eps': '1.476', 'elapsed': '2s'}\n",
      "2020-10-10 08:36:10,614 - drl - EPISODE - Train. - {'step': 181, 'episode': 9, 'epoch': 0, 'epoch_step': 181, 'epoch_episode': 10, 'episode_step': 13, 'score': '0.000', 'eps': '1.473', 'elapsed': '2s'}\n",
      "2020-10-10 08:36:12,278 - drl - EPISODE - Train. - {'step': 196, 'episode': 10, 'epoch': 0, 'epoch_step': 196, 'epoch_episode': 11, 'episode_step': 14, 'score': '0.000', 'eps': '1.470', 'elapsed': '2s'}\n",
      "2020-10-10 08:36:13,826 - drl - EPISODE - Train. - {'step': 210, 'episode': 11, 'epoch': 0, 'epoch_step': 210, 'epoch_episode': 12, 'episode_step': 13, 'score': '0.000', 'eps': '1.467', 'elapsed': '2s'}\n",
      "2020-10-10 08:36:15,404 - drl - EPISODE - Train. - {'step': 224, 'episode': 12, 'epoch': 0, 'epoch_step': 224, 'epoch_episode': 13, 'episode_step': 13, 'score': '0.000', 'eps': '1.464', 'elapsed': '2s'}\n",
      "2020-10-10 08:36:17,034 - drl - EPISODE - Train. - {'step': 238, 'episode': 13, 'epoch': 0, 'epoch_step': 238, 'epoch_episode': 14, 'episode_step': 13, 'score': '0.000', 'eps': '1.461', 'elapsed': '2s'}\n",
      "2020-10-10 08:36:18,603 - drl - EPISODE - Train. - {'step': 252, 'episode': 14, 'epoch': 0, 'epoch_step': 252, 'epoch_episode': 15, 'episode_step': 13, 'score': '0.000', 'eps': '1.459', 'elapsed': '2s'}\n",
      "2020-10-10 08:36:20,229 - drl - EPISODE - Train. - {'step': 267, 'episode': 15, 'epoch': 0, 'epoch_step': 267, 'epoch_episode': 16, 'episode_step': 14, 'score': '0.000', 'eps': '1.456', 'elapsed': '2s'}\n",
      "2020-10-10 08:36:21,767 - drl - EPISODE - Train. - {'step': 281, 'episode': 16, 'epoch': 0, 'epoch_step': 281, 'epoch_episode': 17, 'episode_step': 13, 'score': '0.000', 'eps': '1.453', 'elapsed': '2s'}\n",
      "2020-10-10 08:36:23,332 - drl - EPISODE - Train. - {'step': 295, 'episode': 17, 'epoch': 0, 'epoch_step': 295, 'epoch_episode': 18, 'episode_step': 13, 'score': '0.000', 'eps': '1.450', 'elapsed': '2s'}\n",
      "2020-10-10 08:36:24,870 - drl - EPISODE - Train. - {'step': 309, 'episode': 18, 'epoch': 0, 'epoch_step': 309, 'epoch_episode': 19, 'episode_step': 13, 'score': '0.000', 'eps': '1.447', 'elapsed': '2s'}\n",
      "2020-10-10 08:36:26,410 - drl - EPISODE - Train. - {'step': 323, 'episode': 19, 'epoch': 0, 'epoch_step': 323, 'epoch_episode': 20, 'episode_step': 13, 'score': '0.000', 'eps': '1.444', 'elapsed': '2s'}\n",
      "2020-10-10 08:36:28,099 - drl - EPISODE - Train. - {'step': 338, 'episode': 20, 'epoch': 0, 'epoch_step': 338, 'epoch_episode': 21, 'episode_step': 14, 'score': '0.000', 'eps': '1.441', 'elapsed': '2s'}\n",
      "2020-10-10 08:36:29,666 - drl - EPISODE - Train. - {'step': 352, 'episode': 21, 'epoch': 0, 'epoch_step': 352, 'epoch_episode': 22, 'episode_step': 13, 'score': '0.000', 'eps': '1.438', 'elapsed': '2s'}\n",
      "2020-10-10 08:36:31,261 - drl - EPISODE - Train. - {'step': 366, 'episode': 22, 'epoch': 0, 'epoch_step': 366, 'epoch_episode': 23, 'episode_step': 13, 'score': '0.000', 'eps': '1.435', 'elapsed': '2s'}\n",
      "2020-10-10 08:36:32,795 - drl - EPISODE - Train. - {'step': 380, 'episode': 23, 'epoch': 0, 'epoch_step': 380, 'epoch_episode': 24, 'episode_step': 13, 'score': '0.000', 'eps': '1.432', 'elapsed': '2s'}\n",
      "2020-10-10 08:36:34,346 - drl - EPISODE - Train. - {'step': 394, 'episode': 24, 'epoch': 0, 'epoch_step': 394, 'epoch_episode': 25, 'episode_step': 13, 'score': '0.000', 'eps': '1.430', 'elapsed': '2s'}\n",
      "2020-10-10 08:36:35,989 - drl - EPISODE - Train. - {'step': 409, 'episode': 25, 'epoch': 0, 'epoch_step': 409, 'epoch_episode': 26, 'episode_step': 14, 'score': '0.000', 'eps': '1.427', 'elapsed': '2s'}\n",
      "2020-10-10 08:36:37,535 - drl - EPISODE - Train. - {'step': 423, 'episode': 26, 'epoch': 0, 'epoch_step': 423, 'epoch_episode': 27, 'episode_step': 13, 'score': '0.000', 'eps': '1.424', 'elapsed': '2s'}\n",
      "2020-10-10 08:36:39,091 - drl - EPISODE - Train. - {'step': 437, 'episode': 27, 'epoch': 0, 'epoch_step': 437, 'epoch_episode': 28, 'episode_step': 13, 'score': '0.000', 'eps': '1.421', 'elapsed': '2s'}\n",
      "2020-10-10 08:36:40,641 - drl - EPISODE - Train. - {'step': 451, 'episode': 28, 'epoch': 0, 'epoch_step': 451, 'epoch_episode': 29, 'episode_step': 13, 'score': '0.000', 'eps': '1.418', 'elapsed': '2s'}\n",
      "2020-10-10 08:36:42,263 - drl - EPISODE - Train. - {'step': 465, 'episode': 29, 'epoch': 0, 'epoch_step': 465, 'epoch_episode': 30, 'episode_step': 13, 'score': '0.000', 'eps': '1.415', 'elapsed': '2s'}\n",
      "2020-10-10 08:36:43,923 - drl - EPISODE - Train. - {'step': 480, 'episode': 30, 'epoch': 0, 'epoch_step': 480, 'epoch_episode': 31, 'episode_step': 14, 'score': '0.000', 'eps': '1.413', 'elapsed': '2s'}\n",
      "2020-10-10 08:36:45,488 - drl - EPISODE - Train. - {'step': 494, 'episode': 31, 'epoch': 0, 'epoch_step': 494, 'epoch_episode': 32, 'episode_step': 13, 'score': '0.000', 'eps': '1.410', 'elapsed': '2s'}\n",
      "2020-10-10 08:36:47,015 - drl - EPISODE - Train. - {'step': 508, 'episode': 32, 'epoch': 0, 'epoch_step': 508, 'epoch_episode': 33, 'episode_step': 13, 'score': '0.000', 'eps': '1.407', 'elapsed': '2s'}\n",
      "2020-10-10 08:36:48,554 - drl - EPISODE - Train. - {'step': 522, 'episode': 33, 'epoch': 0, 'epoch_step': 522, 'epoch_episode': 34, 'episode_step': 13, 'score': '0.000', 'eps': '1.404', 'elapsed': '2s'}\n",
      "2020-10-10 08:36:50,104 - drl - EPISODE - Train. - {'step': 536, 'episode': 34, 'epoch': 0, 'epoch_step': 536, 'epoch_episode': 35, 'episode_step': 13, 'score': '0.000', 'eps': '1.401', 'elapsed': '2s'}\n",
      "2020-10-10 08:36:51,736 - drl - EPISODE - Train. - {'step': 551, 'episode': 35, 'epoch': 0, 'epoch_step': 551, 'epoch_episode': 36, 'episode_step': 14, 'score': '0.000', 'eps': '1.398', 'elapsed': '2s'}\n",
      "2020-10-10 08:36:53,293 - drl - EPISODE - Train. - {'step': 565, 'episode': 36, 'epoch': 0, 'epoch_step': 565, 'epoch_episode': 37, 'episode_step': 13, 'score': '0.000', 'eps': '1.396', 'elapsed': '2s'}\n",
      "2020-10-10 08:36:54,827 - drl - EPISODE - Train. - {'step': 579, 'episode': 37, 'epoch': 0, 'epoch_step': 579, 'epoch_episode': 38, 'episode_step': 13, 'score': '0.000', 'eps': '1.393', 'elapsed': '2s'}\n",
      "2020-10-10 08:36:56,370 - drl - EPISODE - Train. - {'step': 593, 'episode': 38, 'epoch': 0, 'epoch_step': 593, 'epoch_episode': 39, 'episode_step': 13, 'score': '0.000', 'eps': '1.390', 'elapsed': '2s'}\n",
      "2020-10-10 08:36:57,925 - drl - EPISODE - Train. - {'step': 607, 'episode': 39, 'epoch': 0, 'epoch_step': 607, 'epoch_episode': 40, 'episode_step': 13, 'score': '0.000', 'eps': '1.387', 'elapsed': '2s'}\n",
      "2020-10-10 08:36:59,588 - drl - EPISODE - Train. - {'step': 622, 'episode': 40, 'epoch': 0, 'epoch_step': 622, 'epoch_episode': 41, 'episode_step': 14, 'score': '0.000', 'eps': '1.385', 'elapsed': '2s'}\n",
      "2020-10-10 08:37:01,173 - drl - EPISODE - Train. - {'step': 636, 'episode': 41, 'epoch': 0, 'epoch_step': 636, 'epoch_episode': 42, 'episode_step': 13, 'score': '0.000', 'eps': '1.382', 'elapsed': '2s'}\n",
      "2020-10-10 08:37:02,704 - drl - EPISODE - Train. - {'step': 650, 'episode': 42, 'epoch': 0, 'epoch_step': 650, 'epoch_episode': 43, 'episode_step': 13, 'score': '0.000', 'eps': '1.379', 'elapsed': '2s'}\n",
      "2020-10-10 08:37:04,242 - drl - EPISODE - Train. - {'step': 664, 'episode': 43, 'epoch': 0, 'epoch_step': 664, 'epoch_episode': 44, 'episode_step': 13, 'score': '0.000', 'eps': '1.376', 'elapsed': '2s'}\n",
      "2020-10-10 08:37:05,784 - drl - EPISODE - Train. - {'step': 678, 'episode': 44, 'epoch': 0, 'epoch_step': 678, 'epoch_episode': 45, 'episode_step': 13, 'score': '0.000', 'eps': '1.374', 'elapsed': '2s'}\n",
      "2020-10-10 08:37:07,422 - drl - EPISODE - Train. - {'step': 693, 'episode': 45, 'epoch': 0, 'epoch_step': 693, 'epoch_episode': 46, 'episode_step': 14, 'score': '0.000', 'eps': '1.371', 'elapsed': '2s'}\n",
      "2020-10-10 08:37:08,973 - drl - EPISODE - Train. - {'step': 707, 'episode': 46, 'epoch': 0, 'epoch_step': 707, 'epoch_episode': 47, 'episode_step': 13, 'score': '0.000', 'eps': '1.368', 'elapsed': '2s'}\n",
      "2020-10-10 08:37:10,509 - drl - EPISODE - Train. - {'step': 721, 'episode': 47, 'epoch': 0, 'epoch_step': 721, 'epoch_episode': 48, 'episode_step': 13, 'score': '0.000', 'eps': '1.365', 'elapsed': '2s'}\n",
      "2020-10-10 08:37:12,046 - drl - EPISODE - Train. - {'step': 735, 'episode': 48, 'epoch': 0, 'epoch_step': 735, 'epoch_episode': 49, 'episode_step': 13, 'score': '0.000', 'eps': '1.363', 'elapsed': '2s'}\n",
      "2020-10-10 08:37:13,594 - drl - EPISODE - Train. - {'step': 749, 'episode': 49, 'epoch': 0, 'epoch_step': 749, 'epoch_episode': 50, 'episode_step': 13, 'score': '0.000', 'eps': '1.360', 'elapsed': '2s'}\n",
      "2020-10-10 08:37:15,261 - drl - EPISODE - Train. - {'step': 764, 'episode': 50, 'epoch': 0, 'epoch_step': 764, 'epoch_episode': 51, 'episode_step': 14, 'score': '0.000', 'eps': '1.357', 'elapsed': '2s'}\n",
      "2020-10-10 08:37:16,821 - drl - EPISODE - Train. - {'step': 778, 'episode': 51, 'epoch': 0, 'epoch_step': 778, 'epoch_episode': 52, 'episode_step': 13, 'score': '0.000', 'eps': '1.354', 'elapsed': '2s'}\n",
      "2020-10-10 08:37:18,350 - drl - EPISODE - Train. - {'step': 792, 'episode': 52, 'epoch': 0, 'epoch_step': 792, 'epoch_episode': 53, 'episode_step': 13, 'score': '0.000', 'eps': '1.352', 'elapsed': '2s'}\n",
      "2020-10-10 08:37:19,889 - drl - EPISODE - Train. - {'step': 806, 'episode': 53, 'epoch': 0, 'epoch_step': 806, 'epoch_episode': 54, 'episode_step': 13, 'score': '0.000', 'eps': '1.349', 'elapsed': '2s'}\n",
      "2020-10-10 08:37:21,426 - drl - EPISODE - Train. - {'step': 820, 'episode': 54, 'epoch': 0, 'epoch_step': 820, 'epoch_episode': 55, 'episode_step': 13, 'score': '0.000', 'eps': '1.346', 'elapsed': '2s'}\n",
      "2020-10-10 08:37:23,063 - drl - EPISODE - Train. - {'step': 835, 'episode': 55, 'epoch': 0, 'epoch_step': 835, 'epoch_episode': 56, 'episode_step': 14, 'score': '0.000', 'eps': '1.344', 'elapsed': '2s'}\n",
      "2020-10-10 08:37:24,615 - drl - EPISODE - Train. - {'step': 849, 'episode': 56, 'epoch': 0, 'epoch_step': 849, 'epoch_episode': 57, 'episode_step': 13, 'score': '0.000', 'eps': '1.341', 'elapsed': '2s'}\n",
      "2020-10-10 08:37:28,160 - drl - EPISODE - Train. - {'step': 881, 'episode': 57, 'epoch': 0, 'epoch_step': 881, 'epoch_episode': 58, 'episode_step': 31, 'score': '0.050', 'eps': '1.338', 'elapsed': '4s'}\n",
      "2020-10-10 08:37:33,956 - drl - EPISODE - Train. - {'step': 933, 'episode': 58, 'epoch': 0, 'epoch_step': 933, 'epoch_episode': 59, 'episode_step': 51, 'score': '0.100', 'eps': '1.336', 'elapsed': '6s'}\n",
      "2020-10-10 08:37:35,646 - drl - EPISODE - Train. - {'step': 948, 'episode': 59, 'epoch': 0, 'epoch_step': 948, 'epoch_episode': 60, 'episode_step': 14, 'score': '0.000', 'eps': '1.333', 'elapsed': '2s'}\n",
      "2020-10-10 08:37:38,974 - drl - EPISODE - Train. - {'step': 978, 'episode': 60, 'epoch': 0, 'epoch_step': 978, 'epoch_episode': 61, 'episode_step': 29, 'score': '0.050', 'eps': '1.330', 'elapsed': '3s'}\n",
      "2020-10-10 08:37:40,603 - drl - EPISODE - Train. - {'step': 993, 'episode': 61, 'epoch': 0, 'epoch_step': 993, 'epoch_episode': 62, 'episode_step': 14, 'score': '0.000', 'eps': '1.328', 'elapsed': '2s'}\n",
      "2020-10-10 08:37:42,055 - drl - EPISODE - Train. - {'step': 1006, 'episode': 62, 'epoch': 0, 'epoch_step': 1006, 'epoch_episode': 63, 'episode_step': 12, 'score': '0.000', 'eps': '1.325', 'elapsed': '1s'}\n",
      "2020-10-10 08:37:43,610 - drl - EPISODE - Train. - {'step': 1020, 'episode': 63, 'epoch': 0, 'epoch_step': 1020, 'epoch_episode': 64, 'episode_step': 13, 'score': '0.000', 'eps': '1.322', 'elapsed': '2s'}\n",
      "2020-10-10 08:37:45,146 - drl - EPISODE - Train. - {'step': 1034, 'episode': 64, 'epoch': 0, 'epoch_step': 1034, 'epoch_episode': 65, 'episode_step': 13, 'score': '0.000', 'eps': '1.320', 'elapsed': '2s'}\n",
      "2020-10-10 08:37:46,770 - drl - EPISODE - Train. - {'step': 1049, 'episode': 65, 'epoch': 0, 'epoch_step': 1049, 'epoch_episode': 66, 'episode_step': 14, 'score': '0.000', 'eps': '1.317', 'elapsed': '2s'}\n",
      "2020-10-10 08:37:52,495 - drl - EPISODE - Train. - {'step': 1101, 'episode': 66, 'epoch': 0, 'epoch_step': 1101, 'epoch_episode': 67, 'episode_step': 51, 'score': '0.100', 'eps': '1.314', 'elapsed': '6s'}\n",
      "2020-10-10 08:37:54,045 - drl - EPISODE - Train. - {'step': 1115, 'episode': 67, 'epoch': 0, 'epoch_step': 1115, 'epoch_episode': 68, 'episode_step': 13, 'score': '0.000', 'eps': '1.312', 'elapsed': '2s'}\n",
      "2020-10-10 08:37:55,711 - drl - EPISODE - Train. - {'step': 1130, 'episode': 68, 'epoch': 0, 'epoch_step': 1130, 'epoch_episode': 69, 'episode_step': 14, 'score': '0.000', 'eps': '1.309', 'elapsed': '2s'}\n",
      "2020-10-10 08:37:57,260 - drl - EPISODE - Train. - {'step': 1144, 'episode': 69, 'epoch': 0, 'epoch_step': 1144, 'epoch_episode': 70, 'episode_step': 13, 'score': '0.000', 'eps': '1.306', 'elapsed': '2s'}\n",
      "2020-10-10 08:37:58,806 - drl - EPISODE - Train. - {'step': 1158, 'episode': 70, 'epoch': 0, 'epoch_step': 1158, 'epoch_episode': 71, 'episode_step': 13, 'score': '0.000', 'eps': '1.304', 'elapsed': '2s'}\n",
      "2020-10-10 08:38:00,358 - drl - EPISODE - Train. - {'step': 1172, 'episode': 71, 'epoch': 0, 'epoch_step': 1172, 'epoch_episode': 72, 'episode_step': 13, 'score': '0.000', 'eps': '1.301', 'elapsed': '2s'}\n",
      "2020-10-10 08:38:02,118 - drl - EPISODE - Train. - {'step': 1188, 'episode': 72, 'epoch': 0, 'epoch_step': 1188, 'epoch_episode': 73, 'episode_step': 15, 'score': '0.000', 'eps': '1.299', 'elapsed': '2s'}\n",
      "2020-10-10 08:38:05,476 - drl - EPISODE - Train. - {'step': 1219, 'episode': 73, 'epoch': 0, 'epoch_step': 1219, 'epoch_episode': 74, 'episode_step': 30, 'score': '0.050', 'eps': '1.296', 'elapsed': '3s'}\n",
      "2020-10-10 08:38:07,001 - drl - EPISODE - Train. - {'step': 1233, 'episode': 74, 'epoch': 0, 'epoch_step': 1233, 'epoch_episode': 75, 'episode_step': 13, 'score': '0.000', 'eps': '1.293', 'elapsed': '2s'}\n",
      "2020-10-10 08:38:12,729 - drl - EPISODE - Train. - {'step': 1285, 'episode': 75, 'epoch': 0, 'epoch_step': 1285, 'epoch_episode': 76, 'episode_step': 51, 'score': '0.050', 'eps': '1.291', 'elapsed': '6s'}\n",
      "2020-10-10 08:38:14,314 - drl - EPISODE - Train. - {'step': 1299, 'episode': 76, 'epoch': 0, 'epoch_step': 1299, 'epoch_episode': 77, 'episode_step': 13, 'score': '0.000', 'eps': '1.288', 'elapsed': '2s'}\n",
      "2020-10-10 08:38:17,729 - drl - EPISODE - Train. - {'step': 1330, 'episode': 77, 'epoch': 0, 'epoch_step': 1330, 'epoch_episode': 78, 'episode_step': 30, 'score': '0.050', 'eps': '1.286', 'elapsed': '3s'}\n",
      "2020-10-10 08:38:19,283 - drl - EPISODE - Train. - {'step': 1344, 'episode': 78, 'epoch': 0, 'epoch_step': 1344, 'epoch_episode': 79, 'episode_step': 13, 'score': '0.000', 'eps': '1.283', 'elapsed': '2s'}\n",
      "2020-10-10 08:38:20,905 - drl - EPISODE - Train. - {'step': 1359, 'episode': 79, 'epoch': 0, 'epoch_step': 1359, 'epoch_episode': 80, 'episode_step': 14, 'score': '0.000', 'eps': '1.281', 'elapsed': '2s'}\n",
      "2020-10-10 08:38:22,378 - drl - EPISODE - Train. - {'step': 1372, 'episode': 80, 'epoch': 0, 'epoch_step': 1372, 'epoch_episode': 81, 'episode_step': 12, 'score': '0.000', 'eps': '1.278', 'elapsed': '1s'}\n",
      "2020-10-10 08:38:24,014 - drl - EPISODE - Train. - {'step': 1387, 'episode': 81, 'epoch': 0, 'epoch_step': 1387, 'epoch_episode': 82, 'episode_step': 14, 'score': '0.000', 'eps': '1.275', 'elapsed': '2s'}\n",
      "2020-10-10 08:38:25,550 - drl - EPISODE - Train. - {'step': 1401, 'episode': 82, 'epoch': 0, 'epoch_step': 1401, 'epoch_episode': 83, 'episode_step': 13, 'score': '0.000', 'eps': '1.273', 'elapsed': '2s'}\n",
      "2020-10-10 08:38:28,865 - drl - EPISODE - Train. - {'step': 1431, 'episode': 83, 'epoch': 0, 'epoch_step': 1431, 'epoch_episode': 84, 'episode_step': 29, 'score': '0.050', 'eps': '1.270', 'elapsed': '3s'}\n",
      "2020-10-10 08:38:30,534 - drl - EPISODE - Train. - {'step': 1446, 'episode': 84, 'epoch': 0, 'epoch_step': 1446, 'epoch_episode': 85, 'episode_step': 14, 'score': '0.000', 'eps': '1.268', 'elapsed': '2s'}\n",
      "2020-10-10 08:38:32,162 - drl - EPISODE - Train. - {'step': 1460, 'episode': 85, 'epoch': 0, 'epoch_step': 1460, 'epoch_episode': 86, 'episode_step': 13, 'score': '0.000', 'eps': '1.265', 'elapsed': '2s'}\n",
      "2020-10-10 08:38:35,359 - drl - EPISODE - Train. - {'step': 1489, 'episode': 86, 'epoch': 0, 'epoch_step': 1489, 'epoch_episode': 87, 'episode_step': 28, 'score': '0.050', 'eps': '1.263', 'elapsed': '3s'}\n",
      "2020-10-10 08:38:36,954 - drl - EPISODE - Train. - {'step': 1503, 'episode': 87, 'epoch': 0, 'epoch_step': 1503, 'epoch_episode': 88, 'episode_step': 13, 'score': '0.000', 'eps': '1.260', 'elapsed': '2s'}\n",
      "2020-10-10 08:38:38,643 - drl - EPISODE - Train. - {'step': 1518, 'episode': 88, 'epoch': 0, 'epoch_step': 1518, 'epoch_episode': 89, 'episode_step': 14, 'score': '0.000', 'eps': '1.258', 'elapsed': '2s'}\n",
      "2020-10-10 08:38:40,180 - drl - EPISODE - Train. - {'step': 1532, 'episode': 89, 'epoch': 0, 'epoch_step': 1532, 'epoch_episode': 90, 'episode_step': 13, 'score': '0.000', 'eps': '1.255', 'elapsed': '2s'}\n",
      "2020-10-10 08:38:43,513 - drl - EPISODE - Train. - {'step': 1562, 'episode': 90, 'epoch': 0, 'epoch_step': 1562, 'epoch_episode': 91, 'episode_step': 29, 'score': '0.050', 'eps': '1.253', 'elapsed': '3s'}\n",
      "2020-10-10 08:38:45,070 - drl - EPISODE - Train. - {'step': 1576, 'episode': 91, 'epoch': 0, 'epoch_step': 1576, 'epoch_episode': 92, 'episode_step': 13, 'score': '0.000', 'eps': '1.250', 'elapsed': '2s'}\n",
      "2020-10-10 08:38:46,613 - drl - EPISODE - Train. - {'step': 1590, 'episode': 92, 'epoch': 0, 'epoch_step': 1590, 'epoch_episode': 93, 'episode_step': 13, 'score': '0.000', 'eps': '1.248', 'elapsed': '2s'}\n",
      "2020-10-10 08:38:48,145 - drl - EPISODE - Train. - {'step': 1604, 'episode': 93, 'epoch': 0, 'epoch_step': 1604, 'epoch_episode': 94, 'episode_step': 13, 'score': '0.000', 'eps': '1.245', 'elapsed': '2s'}\n",
      "2020-10-10 08:38:49,746 - drl - EPISODE - Train. - {'step': 1618, 'episode': 94, 'epoch': 0, 'epoch_step': 1618, 'epoch_episode': 95, 'episode_step': 13, 'score': '0.000', 'eps': '1.243', 'elapsed': '2s'}\n",
      "2020-10-10 08:38:51,293 - drl - EPISODE - Train. - {'step': 1632, 'episode': 95, 'epoch': 0, 'epoch_step': 1632, 'epoch_episode': 96, 'episode_step': 13, 'score': '0.000', 'eps': '1.240', 'elapsed': '2s'}\n",
      "2020-10-10 08:38:54,671 - drl - EPISODE - Train. - {'step': 1663, 'episode': 96, 'epoch': 0, 'epoch_step': 1663, 'epoch_episode': 97, 'episode_step': 30, 'score': '0.050', 'eps': '1.238', 'elapsed': '3s'}\n",
      "2020-10-10 08:38:56,209 - drl - EPISODE - Train. - {'step': 1677, 'episode': 97, 'epoch': 0, 'epoch_step': 1677, 'epoch_episode': 98, 'episode_step': 13, 'score': '0.000', 'eps': '1.235', 'elapsed': '2s'}\n",
      "2020-10-10 08:38:57,889 - drl - EPISODE - Train. - {'step': 1692, 'episode': 98, 'epoch': 0, 'epoch_step': 1692, 'epoch_episode': 99, 'episode_step': 14, 'score': '0.000', 'eps': '1.233', 'elapsed': '2s'}\n",
      "2020-10-10 08:38:59,463 - drl - EPISODE - Train. - {'step': 1706, 'episode': 99, 'epoch': 0, 'epoch_step': 1706, 'epoch_episode': 100, 'episode_step': 13, 'score': '0.000', 'eps': '1.230', 'elapsed': '2s'}\n",
      "2020-10-10 08:39:01,032 - drl - EPISODE - Train. - {'step': 1720, 'episode': 100, 'epoch': 0, 'epoch_step': 1720, 'epoch_episode': 101, 'episode_step': 13, 'score': '0.000', 'eps': '1.228', 'elapsed': '2s'}\n",
      "2020-10-10 08:39:02,589 - drl - EPISODE - Train. - {'step': 1734, 'episode': 101, 'epoch': 0, 'epoch_step': 1734, 'epoch_episode': 102, 'episode_step': 13, 'score': '0.000', 'eps': '1.225', 'elapsed': '2s'}\n",
      "2020-10-10 08:39:04,160 - drl - EPISODE - Train. - {'step': 1748, 'episode': 102, 'epoch': 0, 'epoch_step': 1748, 'epoch_episode': 103, 'episode_step': 13, 'score': '0.000', 'eps': '1.223', 'elapsed': '2s'}\n",
      "2020-10-10 08:39:05,783 - drl - EPISODE - Train. - {'step': 1763, 'episode': 103, 'epoch': 0, 'epoch_step': 1763, 'epoch_episode': 104, 'episode_step': 14, 'score': '0.000', 'eps': '1.220', 'elapsed': '2s'}\n",
      "2020-10-10 08:39:07,326 - drl - EPISODE - Train. - {'step': 1777, 'episode': 104, 'epoch': 0, 'epoch_step': 1777, 'epoch_episode': 105, 'episode_step': 13, 'score': '0.000', 'eps': '1.218', 'elapsed': '2s'}\n",
      "2020-10-10 08:39:08,858 - drl - EPISODE - Train. - {'step': 1791, 'episode': 105, 'epoch': 0, 'epoch_step': 1791, 'epoch_episode': 106, 'episode_step': 13, 'score': '0.000', 'eps': '1.216', 'elapsed': '2s'}\n",
      "2020-10-10 08:39:10,408 - drl - EPISODE - Train. - {'step': 1805, 'episode': 106, 'epoch': 0, 'epoch_step': 1805, 'epoch_episode': 107, 'episode_step': 13, 'score': '0.000', 'eps': '1.213', 'elapsed': '2s'}\n",
      "2020-10-10 08:39:11,983 - drl - EPISODE - Train. - {'step': 1819, 'episode': 107, 'epoch': 0, 'epoch_step': 1819, 'epoch_episode': 108, 'episode_step': 13, 'score': '0.000', 'eps': '1.211', 'elapsed': '2s'}\n",
      "2020-10-10 08:39:13,656 - drl - EPISODE - Train. - {'step': 1834, 'episode': 108, 'epoch': 0, 'epoch_step': 1834, 'epoch_episode': 109, 'episode_step': 14, 'score': '0.000', 'eps': '1.208', 'elapsed': '2s'}\n",
      "2020-10-10 08:39:16,982 - drl - EPISODE - Train. - {'step': 1864, 'episode': 109, 'epoch': 0, 'epoch_step': 1864, 'epoch_episode': 110, 'episode_step': 29, 'score': '0.050', 'eps': '1.206', 'elapsed': '3s'}\n",
      "2020-10-10 08:39:18,643 - drl - EPISODE - Train. - {'step': 1879, 'episode': 110, 'epoch': 0, 'epoch_step': 1879, 'epoch_episode': 111, 'episode_step': 14, 'score': '0.000', 'eps': '1.204', 'elapsed': '2s'}\n",
      "2020-10-10 08:39:20,199 - drl - EPISODE - Train. - {'step': 1893, 'episode': 111, 'epoch': 0, 'epoch_step': 1893, 'epoch_episode': 112, 'episode_step': 13, 'score': '0.000', 'eps': '1.201', 'elapsed': '2s'}\n",
      "2020-10-10 08:39:21,731 - drl - EPISODE - Train. - {'step': 1907, 'episode': 112, 'epoch': 0, 'epoch_step': 1907, 'epoch_episode': 113, 'episode_step': 13, 'score': '0.000', 'eps': '1.199', 'elapsed': '2s'}\n",
      "2020-10-10 08:39:23,274 - drl - EPISODE - Train. - {'step': 1921, 'episode': 113, 'epoch': 0, 'epoch_step': 1921, 'epoch_episode': 114, 'episode_step': 13, 'score': '0.000', 'eps': '1.196', 'elapsed': '2s'}\n",
      "2020-10-10 08:39:24,947 - drl - EPISODE - Train. - {'step': 1936, 'episode': 114, 'epoch': 0, 'epoch_step': 1936, 'epoch_episode': 115, 'episode_step': 14, 'score': '0.000', 'eps': '1.194', 'elapsed': '2s'}\n",
      "2020-10-10 08:39:26,569 - drl - EPISODE - Train. - {'step': 1951, 'episode': 115, 'epoch': 0, 'epoch_step': 1951, 'epoch_episode': 116, 'episode_step': 14, 'score': '0.000', 'eps': '1.192', 'elapsed': '2s'}\n",
      "2020-10-10 08:39:28,036 - drl - EPISODE - Train. - {'step': 1964, 'episode': 116, 'epoch': 0, 'epoch_step': 1964, 'epoch_episode': 117, 'episode_step': 12, 'score': '0.000', 'eps': '1.189', 'elapsed': '1s'}\n",
      "2020-10-10 08:39:29,660 - drl - EPISODE - Train. - {'step': 1979, 'episode': 117, 'epoch': 0, 'epoch_step': 1979, 'epoch_episode': 118, 'episode_step': 14, 'score': '0.000', 'eps': '1.187', 'elapsed': '2s'}\n",
      "2020-10-10 08:39:31,210 - drl - EPISODE - Train. - {'step': 1993, 'episode': 118, 'epoch': 0, 'epoch_step': 1993, 'epoch_episode': 119, 'episode_step': 13, 'score': '0.000', 'eps': '1.184', 'elapsed': '2s'}\n",
      "2020-10-10 08:39:33,342 - drl - EPISODE - Train. - {'step': 2012, 'episode': 119, 'epoch': 0, 'epoch_step': 2012, 'epoch_episode': 120, 'episode_step': 18, 'score': '0.000', 'eps': '1.182', 'elapsed': '2s'}\n",
      "2020-10-10 08:39:36,751 - drl - EPISODE - Train. - {'step': 2043, 'episode': 120, 'epoch': 0, 'epoch_step': 2043, 'epoch_episode': 121, 'episode_step': 30, 'score': '0.050', 'eps': '1.180', 'elapsed': '3s'}\n",
      "2020-10-10 08:39:38,317 - drl - EPISODE - Train. - {'step': 2057, 'episode': 121, 'epoch': 0, 'epoch_step': 2057, 'epoch_episode': 122, 'episode_step': 13, 'score': '0.000', 'eps': '1.177', 'elapsed': '2s'}\n",
      "2020-10-10 08:39:39,870 - drl - EPISODE - Train. - {'step': 2071, 'episode': 122, 'epoch': 0, 'epoch_step': 2071, 'epoch_episode': 123, 'episode_step': 13, 'score': '0.000', 'eps': '1.175', 'elapsed': '2s'}\n",
      "2020-10-10 08:39:41,561 - drl - EPISODE - Train. - {'step': 2086, 'episode': 123, 'epoch': 0, 'epoch_step': 2086, 'epoch_episode': 124, 'episode_step': 14, 'score': '0.000', 'eps': '1.173', 'elapsed': '2s'}\n",
      "2020-10-10 08:39:43,103 - drl - EPISODE - Train. - {'step': 2100, 'episode': 124, 'epoch': 0, 'epoch_step': 2100, 'epoch_episode': 125, 'episode_step': 13, 'score': '0.000', 'eps': '1.170', 'elapsed': '2s'}\n",
      "2020-10-10 08:39:46,457 - drl - EPISODE - Train. - {'step': 2131, 'episode': 125, 'epoch': 0, 'epoch_step': 2131, 'epoch_episode': 126, 'episode_step': 30, 'score': '0.050', 'eps': '1.168', 'elapsed': '3s'}\n",
      "2020-10-10 08:39:48,138 - drl - EPISODE - Train. - {'step': 2146, 'episode': 126, 'epoch': 0, 'epoch_step': 2146, 'epoch_episode': 127, 'episode_step': 14, 'score': '0.000', 'eps': '1.166', 'elapsed': '2s'}\n",
      "2020-10-10 08:39:51,439 - drl - EPISODE - Train. - {'step': 2176, 'episode': 127, 'epoch': 0, 'epoch_step': 2176, 'epoch_episode': 128, 'episode_step': 29, 'score': '0.050', 'eps': '1.163', 'elapsed': '3s'}\n",
      "2020-10-10 08:39:54,836 - drl - EPISODE - Train. - {'step': 2207, 'episode': 128, 'epoch': 0, 'epoch_step': 2207, 'epoch_episode': 129, 'episode_step': 30, 'score': '0.050', 'eps': '1.161', 'elapsed': '3s'}\n",
      "2020-10-10 08:39:56,411 - drl - EPISODE - Train. - {'step': 2221, 'episode': 129, 'epoch': 0, 'epoch_step': 2221, 'epoch_episode': 130, 'episode_step': 13, 'score': '0.000', 'eps': '1.159', 'elapsed': '2s'}\n",
      "2020-10-10 08:39:57,993 - drl - EPISODE - Train. - {'step': 2235, 'episode': 130, 'epoch': 0, 'epoch_step': 2235, 'epoch_episode': 131, 'episode_step': 13, 'score': '0.000', 'eps': '1.156', 'elapsed': '2s'}\n",
      "2020-10-10 08:39:59,552 - drl - EPISODE - Train. - {'step': 2249, 'episode': 131, 'epoch': 0, 'epoch_step': 2249, 'epoch_episode': 132, 'episode_step': 13, 'score': '0.000', 'eps': '1.154', 'elapsed': '2s'}\n",
      "2020-10-10 08:40:02,834 - drl - EPISODE - Train. - {'step': 2279, 'episode': 132, 'epoch': 0, 'epoch_step': 2279, 'epoch_episode': 133, 'episode_step': 29, 'score': '0.050', 'eps': '1.152', 'elapsed': '3s'}\n",
      "2020-10-10 08:40:04,373 - drl - EPISODE - Train. - {'step': 2293, 'episode': 133, 'epoch': 0, 'epoch_step': 2293, 'epoch_episode': 134, 'episode_step': 13, 'score': '0.000', 'eps': '1.149', 'elapsed': '2s'}\n",
      "2020-10-10 08:40:05,906 - drl - EPISODE - Train. - {'step': 2307, 'episode': 134, 'epoch': 0, 'epoch_step': 2307, 'epoch_episode': 135, 'episode_step': 13, 'score': '0.000', 'eps': '1.147', 'elapsed': '2s'}\n",
      "2020-10-10 08:40:07,646 - drl - EPISODE - Train. - {'step': 2322, 'episode': 135, 'epoch': 0, 'epoch_step': 2322, 'epoch_episode': 136, 'episode_step': 14, 'score': '0.000', 'eps': '1.145', 'elapsed': '2s'}\n",
      "2020-10-10 08:40:11,183 - drl - EPISODE - Train. - {'step': 2354, 'episode': 136, 'epoch': 0, 'epoch_step': 2354, 'epoch_episode': 137, 'episode_step': 31, 'score': '0.050', 'eps': '1.142', 'elapsed': '4s'}\n",
      "2020-10-10 08:40:12,795 - drl - EPISODE - Train. - {'step': 2368, 'episode': 137, 'epoch': 0, 'epoch_step': 2368, 'epoch_episode': 138, 'episode_step': 13, 'score': '0.000', 'eps': '1.140', 'elapsed': '2s'}\n",
      "2020-10-10 08:40:16,309 - drl - EPISODE - Train. - {'step': 2400, 'episode': 138, 'epoch': 0, 'epoch_step': 2400, 'epoch_episode': 139, 'episode_step': 31, 'score': '0.000', 'eps': '1.138', 'elapsed': '4s'}\n",
      "2020-10-10 08:40:17,867 - drl - EPISODE - Train. - {'step': 2414, 'episode': 139, 'epoch': 0, 'epoch_step': 2414, 'epoch_episode': 140, 'episode_step': 13, 'score': '0.000', 'eps': '1.136', 'elapsed': '2s'}\n",
      "2020-10-10 08:40:19,407 - drl - EPISODE - Train. - {'step': 2428, 'episode': 140, 'epoch': 0, 'epoch_step': 2428, 'epoch_episode': 141, 'episode_step': 13, 'score': '0.000', 'eps': '1.133', 'elapsed': '2s'}\n",
      "2020-10-10 08:40:22,809 - drl - EPISODE - Train. - {'step': 2459, 'episode': 141, 'epoch': 0, 'epoch_step': 2459, 'epoch_episode': 142, 'episode_step': 30, 'score': '0.050', 'eps': '1.131', 'elapsed': '3s'}\n",
      "2020-10-10 08:40:25,216 - drl - EPISODE - Train. - {'step': 2481, 'episode': 142, 'epoch': 0, 'epoch_step': 2481, 'epoch_episode': 143, 'episode_step': 21, 'score': '0.050', 'eps': '1.129', 'elapsed': '2s'}\n",
      "2020-10-10 08:40:26,885 - drl - EPISODE - Train. - {'step': 2496, 'episode': 143, 'epoch': 0, 'epoch_step': 2496, 'epoch_episode': 144, 'episode_step': 14, 'score': '0.000', 'eps': '1.127', 'elapsed': '2s'}\n",
      "2020-10-10 08:40:28,414 - drl - EPISODE - Train. - {'step': 2510, 'episode': 144, 'epoch': 0, 'epoch_step': 2510, 'epoch_episode': 145, 'episode_step': 13, 'score': '0.000', 'eps': '1.124', 'elapsed': '2s'}\n",
      "2020-10-10 08:40:29,969 - drl - EPISODE - Train. - {'step': 2524, 'episode': 145, 'epoch': 0, 'epoch_step': 2524, 'epoch_episode': 146, 'episode_step': 13, 'score': '0.000', 'eps': '1.122', 'elapsed': '2s'}\n",
      "2020-10-10 08:40:31,521 - drl - EPISODE - Train. - {'step': 2538, 'episode': 146, 'epoch': 0, 'epoch_step': 2538, 'epoch_episode': 147, 'episode_step': 13, 'score': '0.000', 'eps': '1.120', 'elapsed': '2s'}\n",
      "2020-10-10 08:40:33,057 - drl - EPISODE - Train. - {'step': 2552, 'episode': 147, 'epoch': 0, 'epoch_step': 2552, 'epoch_episode': 148, 'episode_step': 13, 'score': '0.000', 'eps': '1.118', 'elapsed': '2s'}\n",
      "2020-10-10 08:40:38,737 - drl - EPISODE - Train. - {'step': 2604, 'episode': 148, 'epoch': 0, 'epoch_step': 2604, 'epoch_episode': 149, 'episode_step': 51, 'score': '0.100', 'eps': '1.115', 'elapsed': '6s'}\n",
      "2020-10-10 08:40:40,280 - drl - EPISODE - Train. - {'step': 2618, 'episode': 149, 'epoch': 0, 'epoch_step': 2618, 'epoch_episode': 150, 'episode_step': 13, 'score': '0.000', 'eps': '1.113', 'elapsed': '2s'}\n",
      "2020-10-10 08:40:41,817 - drl - EPISODE - Train. - {'step': 2632, 'episode': 150, 'epoch': 0, 'epoch_step': 2632, 'epoch_episode': 151, 'episode_step': 13, 'score': '0.000', 'eps': '1.111', 'elapsed': '2s'}\n",
      "2020-10-10 08:40:43,382 - drl - EPISODE - Train. - {'step': 2646, 'episode': 151, 'epoch': 0, 'epoch_step': 2646, 'epoch_episode': 152, 'episode_step': 13, 'score': '0.000', 'eps': '1.109', 'elapsed': '2s'}\n",
      "2020-10-10 08:40:45,218 - drl - EPISODE - Train. - {'step': 2662, 'episode': 152, 'epoch': 0, 'epoch_step': 2662, 'epoch_episode': 153, 'episode_step': 15, 'score': '0.000', 'eps': '1.106', 'elapsed': '2s'}\n",
      "2020-10-10 08:40:46,776 - drl - EPISODE - Train. - {'step': 2676, 'episode': 153, 'epoch': 0, 'epoch_step': 2676, 'epoch_episode': 154, 'episode_step': 13, 'score': '0.000', 'eps': '1.104', 'elapsed': '2s'}\n",
      "2020-10-10 08:40:48,327 - drl - EPISODE - Train. - {'step': 2690, 'episode': 154, 'epoch': 0, 'epoch_step': 2690, 'epoch_episode': 155, 'episode_step': 13, 'score': '0.000', 'eps': '1.102', 'elapsed': '2s'}\n",
      "2020-10-10 08:40:49,895 - drl - EPISODE - Train. - {'step': 2704, 'episode': 155, 'epoch': 0, 'epoch_step': 2704, 'epoch_episode': 156, 'episode_step': 13, 'score': '0.000', 'eps': '1.100', 'elapsed': '2s'}\n",
      "2020-10-10 08:40:51,451 - drl - EPISODE - Train. - {'step': 2718, 'episode': 156, 'epoch': 0, 'epoch_step': 2718, 'epoch_episode': 157, 'episode_step': 13, 'score': '0.000', 'eps': '1.098', 'elapsed': '2s'}\n",
      "2020-10-10 08:40:53,231 - drl - EPISODE - Train. - {'step': 2734, 'episode': 157, 'epoch': 0, 'epoch_step': 2734, 'epoch_episode': 158, 'episode_step': 15, 'score': '0.000', 'eps': '1.095', 'elapsed': '2s'}\n",
      "2020-10-10 08:40:54,779 - drl - EPISODE - Train. - {'step': 2748, 'episode': 158, 'epoch': 0, 'epoch_step': 2748, 'epoch_episode': 159, 'episode_step': 13, 'score': '0.000', 'eps': '1.093', 'elapsed': '2s'}\n",
      "2020-10-10 08:40:56,324 - drl - EPISODE - Train. - {'step': 2762, 'episode': 159, 'epoch': 0, 'epoch_step': 2762, 'epoch_episode': 160, 'episode_step': 13, 'score': '0.000', 'eps': '1.091', 'elapsed': '2s'}\n",
      "2020-10-10 08:40:58,000 - drl - EPISODE - Train. - {'step': 2776, 'episode': 160, 'epoch': 0, 'epoch_step': 2776, 'epoch_episode': 161, 'episode_step': 13, 'score': '0.000', 'eps': '1.089', 'elapsed': '2s'}\n",
      "2020-10-10 08:40:59,785 - drl - EPISODE - Train. - {'step': 2792, 'episode': 161, 'epoch': 0, 'epoch_step': 2792, 'epoch_episode': 162, 'episode_step': 15, 'score': '0.000', 'eps': '1.087', 'elapsed': '2s'}\n",
      "2020-10-10 08:41:01,362 - drl - EPISODE - Train. - {'step': 2806, 'episode': 162, 'epoch': 0, 'epoch_step': 2806, 'epoch_episode': 163, 'episode_step': 13, 'score': '0.000', 'eps': '1.085', 'elapsed': '2s'}\n",
      "2020-10-10 08:41:02,901 - drl - EPISODE - Train. - {'step': 2820, 'episode': 163, 'epoch': 0, 'epoch_step': 2820, 'epoch_episode': 164, 'episode_step': 13, 'score': '0.000', 'eps': '1.082', 'elapsed': '2s'}\n",
      "2020-10-10 08:41:04,449 - drl - EPISODE - Train. - {'step': 2834, 'episode': 164, 'epoch': 0, 'epoch_step': 2834, 'epoch_episode': 165, 'episode_step': 13, 'score': '0.000', 'eps': '1.080', 'elapsed': '2s'}\n",
      "2020-10-10 08:41:05,991 - drl - EPISODE - Train. - {'step': 2848, 'episode': 165, 'epoch': 0, 'epoch_step': 2848, 'epoch_episode': 166, 'episode_step': 13, 'score': '0.000', 'eps': '1.078', 'elapsed': '2s'}\n",
      "2020-10-10 08:41:07,552 - drl - EPISODE - Train. - {'step': 2862, 'episode': 166, 'epoch': 0, 'epoch_step': 2862, 'epoch_episode': 167, 'episode_step': 13, 'score': '0.000', 'eps': '1.076', 'elapsed': '2s'}\n",
      "2020-10-10 08:41:13,269 - drl - EPISODE - Train. - {'step': 2914, 'episode': 167, 'epoch': 0, 'epoch_step': 2914, 'epoch_episode': 168, 'episode_step': 51, 'score': '0.100', 'eps': '1.074', 'elapsed': '6s'}\n",
      "2020-10-10 08:41:14,819 - drl - EPISODE - Train. - {'step': 2928, 'episode': 168, 'epoch': 0, 'epoch_step': 2928, 'epoch_episode': 169, 'episode_step': 13, 'score': '0.000', 'eps': '1.072', 'elapsed': '2s'}\n",
      "2020-10-10 08:41:20,641 - drl - EPISODE - Train. - {'step': 2980, 'episode': 169, 'epoch': 0, 'epoch_step': 2980, 'epoch_episode': 170, 'episode_step': 51, 'score': '0.100', 'eps': '1.069', 'elapsed': '6s'}\n",
      "2020-10-10 08:41:22,426 - drl - EPISODE - Train. - {'step': 2996, 'episode': 170, 'epoch': 0, 'epoch_step': 2996, 'epoch_episode': 171, 'episode_step': 15, 'score': '0.000', 'eps': '1.067', 'elapsed': '2s'}\n",
      "2020-10-10 08:41:24,005 - drl - EPISODE - Train. - {'step': 3010, 'episode': 171, 'epoch': 0, 'epoch_step': 3010, 'epoch_episode': 172, 'episode_step': 13, 'score': '0.000', 'eps': '1.065', 'elapsed': '2s'}\n",
      "2020-10-10 08:41:25,558 - drl - EPISODE - Train. - {'step': 3024, 'episode': 172, 'epoch': 0, 'epoch_step': 3024, 'epoch_episode': 173, 'episode_step': 13, 'score': '0.000', 'eps': '1.063', 'elapsed': '2s'}\n",
      "2020-10-10 08:41:27,245 - drl - EPISODE - Train. - {'step': 3039, 'episode': 173, 'epoch': 0, 'epoch_step': 3039, 'epoch_episode': 174, 'episode_step': 14, 'score': '0.000', 'eps': '1.061', 'elapsed': '2s'}\n",
      "2020-10-10 08:41:28,805 - drl - EPISODE - Train. - {'step': 3053, 'episode': 174, 'epoch': 0, 'epoch_step': 3053, 'epoch_episode': 175, 'episode_step': 13, 'score': '0.000', 'eps': '1.059', 'elapsed': '2s'}\n",
      "2020-10-10 08:41:30,357 - drl - EPISODE - Train. - {'step': 3067, 'episode': 175, 'epoch': 0, 'epoch_step': 3067, 'epoch_episode': 176, 'episode_step': 13, 'score': '0.000', 'eps': '1.057', 'elapsed': '2s'}\n",
      "2020-10-10 08:41:31,919 - drl - EPISODE - Train. - {'step': 3081, 'episode': 176, 'epoch': 0, 'epoch_step': 3081, 'epoch_episode': 177, 'episode_step': 13, 'score': '0.000', 'eps': '1.055', 'elapsed': '2s'}\n",
      "2020-10-10 08:41:33,483 - drl - EPISODE - Train. - {'step': 3095, 'episode': 177, 'epoch': 0, 'epoch_step': 3095, 'epoch_episode': 178, 'episode_step': 13, 'score': '0.000', 'eps': '1.052', 'elapsed': '2s'}\n",
      "2020-10-10 08:41:35,152 - drl - EPISODE - Train. - {'step': 3110, 'episode': 178, 'epoch': 0, 'epoch_step': 3110, 'epoch_episode': 179, 'episode_step': 14, 'score': '0.000', 'eps': '1.050', 'elapsed': '2s'}\n",
      "2020-10-10 08:41:36,681 - drl - EPISODE - Train. - {'step': 3124, 'episode': 179, 'epoch': 0, 'epoch_step': 3124, 'epoch_episode': 180, 'episode_step': 13, 'score': '0.000', 'eps': '1.048', 'elapsed': '2s'}\n",
      "2020-10-10 08:41:38,238 - drl - EPISODE - Train. - {'step': 3138, 'episode': 180, 'epoch': 0, 'epoch_step': 3138, 'epoch_episode': 181, 'episode_step': 13, 'score': '0.000', 'eps': '1.046', 'elapsed': '2s'}\n",
      "2020-10-10 08:41:39,804 - drl - EPISODE - Train. - {'step': 3152, 'episode': 181, 'epoch': 0, 'epoch_step': 3152, 'epoch_episode': 182, 'episode_step': 13, 'score': '0.000', 'eps': '1.044', 'elapsed': '2s'}\n",
      "2020-10-10 08:41:41,340 - drl - EPISODE - Train. - {'step': 3166, 'episode': 182, 'epoch': 0, 'epoch_step': 3166, 'epoch_episode': 183, 'episode_step': 13, 'score': '0.000', 'eps': '1.042', 'elapsed': '2s'}\n",
      "2020-10-10 08:41:43,007 - drl - EPISODE - Train. - {'step': 3181, 'episode': 183, 'epoch': 0, 'epoch_step': 3181, 'epoch_episode': 184, 'episode_step': 14, 'score': '0.000', 'eps': '1.040', 'elapsed': '2s'}\n",
      "2020-10-10 08:41:44,539 - drl - EPISODE - Train. - {'step': 3195, 'episode': 184, 'epoch': 0, 'epoch_step': 3195, 'epoch_episode': 185, 'episode_step': 13, 'score': '0.000', 'eps': '1.038', 'elapsed': '2s'}\n",
      "2020-10-10 08:41:46,095 - drl - EPISODE - Train. - {'step': 3209, 'episode': 185, 'epoch': 0, 'epoch_step': 3209, 'epoch_episode': 186, 'episode_step': 13, 'score': '0.000', 'eps': '1.036', 'elapsed': '2s'}\n",
      "2020-10-10 08:41:47,706 - drl - EPISODE - Train. - {'step': 3223, 'episode': 186, 'epoch': 0, 'epoch_step': 3223, 'epoch_episode': 187, 'episode_step': 13, 'score': '0.000', 'eps': '1.034', 'elapsed': '2s'}\n",
      "2020-10-10 08:41:49,277 - drl - EPISODE - Train. - {'step': 3237, 'episode': 187, 'epoch': 0, 'epoch_step': 3237, 'epoch_episode': 188, 'episode_step': 13, 'score': '0.000', 'eps': '1.032', 'elapsed': '2s'}\n",
      "2020-10-10 08:41:50,973 - drl - EPISODE - Train. - {'step': 3252, 'episode': 188, 'epoch': 0, 'epoch_step': 3252, 'epoch_episode': 189, 'episode_step': 14, 'score': '0.000', 'eps': '1.030', 'elapsed': '2s'}\n",
      "2020-10-10 08:41:52,552 - drl - EPISODE - Train. - {'step': 3266, 'episode': 189, 'epoch': 0, 'epoch_step': 3266, 'epoch_episode': 190, 'episode_step': 13, 'score': '0.000', 'eps': '1.027', 'elapsed': '2s'}\n",
      "2020-10-10 08:41:54,113 - drl - EPISODE - Train. - {'step': 3280, 'episode': 190, 'epoch': 0, 'epoch_step': 3280, 'epoch_episode': 191, 'episode_step': 13, 'score': '0.000', 'eps': '1.025', 'elapsed': '2s'}\n",
      "2020-10-10 08:41:55,699 - drl - EPISODE - Train. - {'step': 3294, 'episode': 191, 'epoch': 0, 'epoch_step': 3294, 'epoch_episode': 192, 'episode_step': 13, 'score': '0.000', 'eps': '1.023', 'elapsed': '2s'}\n",
      "2020-10-10 08:41:57,267 - drl - EPISODE - Train. - {'step': 3308, 'episode': 192, 'epoch': 0, 'epoch_step': 3308, 'epoch_episode': 193, 'episode_step': 13, 'score': '0.000', 'eps': '1.021', 'elapsed': '2s'}\n",
      "2020-10-10 08:41:58,920 - drl - EPISODE - Train. - {'step': 3323, 'episode': 193, 'epoch': 0, 'epoch_step': 3323, 'epoch_episode': 194, 'episode_step': 14, 'score': '0.000', 'eps': '1.019', 'elapsed': '2s'}\n",
      "2020-10-10 08:42:00,452 - drl - EPISODE - Train. - {'step': 3337, 'episode': 194, 'epoch': 0, 'epoch_step': 3337, 'epoch_episode': 195, 'episode_step': 13, 'score': '0.000', 'eps': '1.017', 'elapsed': '2s'}\n",
      "2020-10-10 08:42:02,003 - drl - EPISODE - Train. - {'step': 3351, 'episode': 195, 'epoch': 0, 'epoch_step': 3351, 'epoch_episode': 196, 'episode_step': 13, 'score': '0.000', 'eps': '1.015', 'elapsed': '2s'}\n",
      "2020-10-10 08:42:03,565 - drl - EPISODE - Train. - {'step': 3365, 'episode': 196, 'epoch': 0, 'epoch_step': 3365, 'epoch_episode': 197, 'episode_step': 13, 'score': '0.000', 'eps': '1.013', 'elapsed': '2s'}\n",
      "2020-10-10 08:42:05,121 - drl - EPISODE - Train. - {'step': 3379, 'episode': 197, 'epoch': 0, 'epoch_step': 3379, 'epoch_episode': 198, 'episode_step': 13, 'score': '0.000', 'eps': '1.011', 'elapsed': '2s'}\n",
      "2020-10-10 08:42:06,785 - drl - EPISODE - Train. - {'step': 3394, 'episode': 198, 'epoch': 0, 'epoch_step': 3394, 'epoch_episode': 199, 'episode_step': 14, 'score': '0.000', 'eps': '1.009', 'elapsed': '2s'}\n",
      "2020-10-10 08:42:08,325 - drl - EPISODE - Train. - {'step': 3408, 'episode': 199, 'epoch': 0, 'epoch_step': 3408, 'epoch_episode': 200, 'episode_step': 13, 'score': '0.000', 'eps': '1.007', 'elapsed': '2s'}\n",
      "2020-10-10 08:42:09,860 - drl - EPISODE - Train. - {'step': 3422, 'episode': 200, 'epoch': 0, 'epoch_step': 3422, 'epoch_episode': 201, 'episode_step': 13, 'score': '0.000', 'eps': '1.005', 'elapsed': '2s'}\n",
      "2020-10-10 08:42:11,411 - drl - EPISODE - Train. - {'step': 3436, 'episode': 201, 'epoch': 0, 'epoch_step': 3436, 'epoch_episode': 202, 'episode_step': 13, 'score': '0.000', 'eps': '1.003', 'elapsed': '2s'}\n",
      "2020-10-10 08:42:12,952 - drl - EPISODE - Train. - {'step': 3450, 'episode': 202, 'epoch': 0, 'epoch_step': 3450, 'epoch_episode': 203, 'episode_step': 13, 'score': '0.000', 'eps': '1.001', 'elapsed': '2s'}\n",
      "2020-10-10 08:42:14,583 - drl - EPISODE - Train. - {'step': 3465, 'episode': 203, 'epoch': 0, 'epoch_step': 3465, 'epoch_episode': 204, 'episode_step': 14, 'score': '0.000', 'eps': '0.999', 'elapsed': '2s'}\n",
      "2020-10-10 08:42:16,111 - drl - EPISODE - Train. - {'step': 3479, 'episode': 204, 'epoch': 0, 'epoch_step': 3479, 'epoch_episode': 205, 'episode_step': 13, 'score': '0.000', 'eps': '0.997', 'elapsed': '2s'}\n",
      "2020-10-10 08:42:17,671 - drl - EPISODE - Train. - {'step': 3493, 'episode': 205, 'epoch': 0, 'epoch_step': 3493, 'epoch_episode': 206, 'episode_step': 13, 'score': '0.000', 'eps': '0.995', 'elapsed': '2s'}\n",
      "2020-10-10 08:42:19,250 - drl - EPISODE - Train. - {'step': 3507, 'episode': 206, 'epoch': 0, 'epoch_step': 3507, 'epoch_episode': 207, 'episode_step': 13, 'score': '0.000', 'eps': '0.993', 'elapsed': '2s'}\n",
      "2020-10-10 08:42:20,837 - drl - EPISODE - Train. - {'step': 3521, 'episode': 207, 'epoch': 0, 'epoch_step': 3521, 'epoch_episode': 208, 'episode_step': 13, 'score': '0.000', 'eps': '0.991', 'elapsed': '2s'}\n",
      "2020-10-10 08:42:22,516 - drl - EPISODE - Train. - {'step': 3536, 'episode': 208, 'epoch': 0, 'epoch_step': 3536, 'epoch_episode': 209, 'episode_step': 14, 'score': '0.000', 'eps': '0.989', 'elapsed': '2s'}\n",
      "2020-10-10 08:42:24,067 - drl - EPISODE - Train. - {'step': 3550, 'episode': 209, 'epoch': 0, 'epoch_step': 3550, 'epoch_episode': 210, 'episode_step': 13, 'score': '0.000', 'eps': '0.987', 'elapsed': '2s'}\n",
      "2020-10-10 08:42:25,620 - drl - EPISODE - Train. - {'step': 3564, 'episode': 210, 'epoch': 0, 'epoch_step': 3564, 'epoch_episode': 211, 'episode_step': 13, 'score': '0.000', 'eps': '0.985', 'elapsed': '2s'}\n",
      "2020-10-10 08:42:27,182 - drl - EPISODE - Train. - {'step': 3578, 'episode': 211, 'epoch': 0, 'epoch_step': 3578, 'epoch_episode': 212, 'episode_step': 13, 'score': '0.000', 'eps': '0.983', 'elapsed': '2s'}\n",
      "2020-10-10 08:42:28,737 - drl - EPISODE - Train. - {'step': 3592, 'episode': 212, 'epoch': 0, 'epoch_step': 3592, 'epoch_episode': 213, 'episode_step': 13, 'score': '0.000', 'eps': '0.981', 'elapsed': '2s'}\n",
      "2020-10-10 08:42:30,501 - drl - EPISODE - Train. - {'step': 3607, 'episode': 213, 'epoch': 0, 'epoch_step': 3607, 'epoch_episode': 214, 'episode_step': 14, 'score': '0.000', 'eps': '0.979', 'elapsed': '2s'}\n",
      "2020-10-10 08:42:32,040 - drl - EPISODE - Train. - {'step': 3621, 'episode': 214, 'epoch': 0, 'epoch_step': 3621, 'epoch_episode': 215, 'episode_step': 13, 'score': '0.000', 'eps': '0.977', 'elapsed': '2s'}\n",
      "2020-10-10 08:42:33,588 - drl - EPISODE - Train. - {'step': 3635, 'episode': 215, 'epoch': 0, 'epoch_step': 3635, 'epoch_episode': 216, 'episode_step': 13, 'score': '0.000', 'eps': '0.975', 'elapsed': '2s'}\n",
      "2020-10-10 08:42:35,150 - drl - EPISODE - Train. - {'step': 3649, 'episode': 216, 'epoch': 0, 'epoch_step': 3649, 'epoch_episode': 217, 'episode_step': 13, 'score': '0.000', 'eps': '0.973', 'elapsed': '2s'}\n",
      "2020-10-10 08:42:36,759 - drl - EPISODE - Train. - {'step': 3663, 'episode': 217, 'epoch': 0, 'epoch_step': 3663, 'epoch_episode': 218, 'episode_step': 13, 'score': '0.000', 'eps': '0.971', 'elapsed': '2s'}\n",
      "2020-10-10 08:42:38,439 - drl - EPISODE - Train. - {'step': 3678, 'episode': 218, 'epoch': 0, 'epoch_step': 3678, 'epoch_episode': 219, 'episode_step': 14, 'score': '0.000', 'eps': '0.970', 'elapsed': '2s'}\n",
      "2020-10-10 08:42:39,973 - drl - EPISODE - Train. - {'step': 3692, 'episode': 219, 'epoch': 0, 'epoch_step': 3692, 'epoch_episode': 220, 'episode_step': 13, 'score': '0.000', 'eps': '0.968', 'elapsed': '2s'}\n",
      "2020-10-10 08:42:41,525 - drl - EPISODE - Train. - {'step': 3706, 'episode': 220, 'epoch': 0, 'epoch_step': 3706, 'epoch_episode': 221, 'episode_step': 13, 'score': '0.000', 'eps': '0.966', 'elapsed': '2s'}\n",
      "2020-10-10 08:42:43,119 - drl - EPISODE - Train. - {'step': 3720, 'episode': 221, 'epoch': 0, 'epoch_step': 3720, 'epoch_episode': 222, 'episode_step': 13, 'score': '0.000', 'eps': '0.964', 'elapsed': '2s'}\n",
      "2020-10-10 08:42:44,658 - drl - EPISODE - Train. - {'step': 3734, 'episode': 222, 'epoch': 0, 'epoch_step': 3734, 'epoch_episode': 223, 'episode_step': 13, 'score': '0.000', 'eps': '0.962', 'elapsed': '2s'}\n",
      "2020-10-10 08:42:46,314 - drl - EPISODE - Train. - {'step': 3749, 'episode': 223, 'epoch': 0, 'epoch_step': 3749, 'epoch_episode': 224, 'episode_step': 14, 'score': '0.000', 'eps': '0.960', 'elapsed': '2s'}\n",
      "2020-10-10 08:42:47,848 - drl - EPISODE - Train. - {'step': 3763, 'episode': 224, 'epoch': 0, 'epoch_step': 3763, 'epoch_episode': 225, 'episode_step': 13, 'score': '0.000', 'eps': '0.958', 'elapsed': '2s'}\n",
      "2020-10-10 08:42:49,378 - drl - EPISODE - Train. - {'step': 3777, 'episode': 225, 'epoch': 0, 'epoch_step': 3777, 'epoch_episode': 226, 'episode_step': 13, 'score': '0.000', 'eps': '0.956', 'elapsed': '2s'}\n",
      "2020-10-10 08:42:50,934 - drl - EPISODE - Train. - {'step': 3791, 'episode': 226, 'epoch': 0, 'epoch_step': 3791, 'epoch_episode': 227, 'episode_step': 13, 'score': '0.000', 'eps': '0.954', 'elapsed': '2s'}\n",
      "2020-10-10 08:42:52,476 - drl - EPISODE - Train. - {'step': 3805, 'episode': 227, 'epoch': 0, 'epoch_step': 3805, 'epoch_episode': 228, 'episode_step': 13, 'score': '0.000', 'eps': '0.952', 'elapsed': '2s'}\n",
      "2020-10-10 08:42:54,147 - drl - EPISODE - Train. - {'step': 3820, 'episode': 228, 'epoch': 0, 'epoch_step': 3820, 'epoch_episode': 229, 'episode_step': 14, 'score': '0.000', 'eps': '0.950', 'elapsed': '2s'}\n",
      "2020-10-10 08:42:55,687 - drl - EPISODE - Train. - {'step': 3834, 'episode': 229, 'epoch': 0, 'epoch_step': 3834, 'epoch_episode': 230, 'episode_step': 13, 'score': '0.000', 'eps': '0.948', 'elapsed': '2s'}\n",
      "2020-10-10 08:42:57,234 - drl - EPISODE - Train. - {'step': 3848, 'episode': 230, 'epoch': 0, 'epoch_step': 3848, 'epoch_episode': 231, 'episode_step': 13, 'score': '0.000', 'eps': '0.946', 'elapsed': '2s'}\n",
      "2020-10-10 08:42:58,820 - drl - EPISODE - Train. - {'step': 3862, 'episode': 231, 'epoch': 0, 'epoch_step': 3862, 'epoch_episode': 232, 'episode_step': 13, 'score': '0.000', 'eps': '0.945', 'elapsed': '2s'}\n",
      "2020-10-10 08:43:00,361 - drl - EPISODE - Train. - {'step': 3876, 'episode': 232, 'epoch': 0, 'epoch_step': 3876, 'epoch_episode': 233, 'episode_step': 13, 'score': '0.000', 'eps': '0.943', 'elapsed': '2s'}\n",
      "2020-10-10 08:43:02,016 - drl - EPISODE - Train. - {'step': 3891, 'episode': 233, 'epoch': 0, 'epoch_step': 3891, 'epoch_episode': 234, 'episode_step': 14, 'score': '0.000', 'eps': '0.941', 'elapsed': '2s'}\n",
      "2020-10-10 08:43:03,571 - drl - EPISODE - Train. - {'step': 3905, 'episode': 234, 'epoch': 0, 'epoch_step': 3905, 'epoch_episode': 235, 'episode_step': 13, 'score': '0.000', 'eps': '0.939', 'elapsed': '2s'}\n",
      "2020-10-10 08:43:05,136 - drl - EPISODE - Train. - {'step': 3919, 'episode': 235, 'epoch': 0, 'epoch_step': 3919, 'epoch_episode': 236, 'episode_step': 13, 'score': '0.000', 'eps': '0.937', 'elapsed': '2s'}\n",
      "2020-10-10 08:43:06,681 - drl - EPISODE - Train. - {'step': 3933, 'episode': 236, 'epoch': 0, 'epoch_step': 3933, 'epoch_episode': 237, 'episode_step': 13, 'score': '0.000', 'eps': '0.935', 'elapsed': '2s'}\n",
      "2020-10-10 08:43:08,229 - drl - EPISODE - Train. - {'step': 3947, 'episode': 237, 'epoch': 0, 'epoch_step': 3947, 'epoch_episode': 238, 'episode_step': 13, 'score': '0.000', 'eps': '0.933', 'elapsed': '2s'}\n",
      "2020-10-10 08:43:09,908 - drl - EPISODE - Train. - {'step': 3962, 'episode': 238, 'epoch': 0, 'epoch_step': 3962, 'epoch_episode': 239, 'episode_step': 14, 'score': '0.000', 'eps': '0.931', 'elapsed': '2s'}\n",
      "2020-10-10 08:43:11,460 - drl - EPISODE - Train. - {'step': 3976, 'episode': 239, 'epoch': 0, 'epoch_step': 3976, 'epoch_episode': 240, 'episode_step': 13, 'score': '0.000', 'eps': '0.930', 'elapsed': '2s'}\n",
      "2020-10-10 08:43:13,084 - drl - EPISODE - Train. - {'step': 3990, 'episode': 240, 'epoch': 0, 'epoch_step': 3990, 'epoch_episode': 241, 'episode_step': 13, 'score': '0.000', 'eps': '0.928', 'elapsed': '2s'}\n",
      "2020-10-10 08:43:14,657 - drl - EPISODE - Train. - {'step': 4004, 'episode': 241, 'epoch': 0, 'epoch_step': 4004, 'epoch_episode': 242, 'episode_step': 13, 'score': '0.000', 'eps': '0.926', 'elapsed': '2s'}\n",
      "2020-10-10 08:43:16,209 - drl - EPISODE - Train. - {'step': 4018, 'episode': 242, 'epoch': 0, 'epoch_step': 4018, 'epoch_episode': 243, 'episode_step': 13, 'score': '0.000', 'eps': '0.924', 'elapsed': '2s'}\n",
      "2020-10-10 08:43:17,903 - drl - EPISODE - Train. - {'step': 4033, 'episode': 243, 'epoch': 0, 'epoch_step': 4033, 'epoch_episode': 244, 'episode_step': 14, 'score': '0.000', 'eps': '0.922', 'elapsed': '2s'}\n",
      "2020-10-10 08:43:19,471 - drl - EPISODE - Train. - {'step': 4047, 'episode': 244, 'epoch': 0, 'epoch_step': 4047, 'epoch_episode': 245, 'episode_step': 13, 'score': '0.000', 'eps': '0.920', 'elapsed': '2s'}\n",
      "2020-10-10 08:43:21,015 - drl - EPISODE - Train. - {'step': 4061, 'episode': 245, 'epoch': 0, 'epoch_step': 4061, 'epoch_episode': 246, 'episode_step': 13, 'score': '0.000', 'eps': '0.918', 'elapsed': '2s'}\n",
      "2020-10-10 08:43:22,580 - drl - EPISODE - Train. - {'step': 4075, 'episode': 246, 'epoch': 0, 'epoch_step': 4075, 'epoch_episode': 247, 'episode_step': 13, 'score': '0.000', 'eps': '0.917', 'elapsed': '2s'}\n",
      "2020-10-10 08:43:24,119 - drl - EPISODE - Train. - {'step': 4089, 'episode': 247, 'epoch': 0, 'epoch_step': 4089, 'epoch_episode': 248, 'episode_step': 13, 'score': '0.000', 'eps': '0.915', 'elapsed': '2s'}\n",
      "2020-10-10 08:43:25,781 - drl - EPISODE - Train. - {'step': 4104, 'episode': 248, 'epoch': 0, 'epoch_step': 4104, 'epoch_episode': 249, 'episode_step': 14, 'score': '0.000', 'eps': '0.913', 'elapsed': '2s'}\n",
      "2020-10-10 08:43:27,323 - drl - EPISODE - Train. - {'step': 4118, 'episode': 249, 'epoch': 0, 'epoch_step': 4118, 'epoch_episode': 250, 'episode_step': 13, 'score': '0.000', 'eps': '0.911', 'elapsed': '2s'}\n",
      "2020-10-10 08:43:28,890 - drl - EPISODE - Train. - {'step': 4132, 'episode': 250, 'epoch': 0, 'epoch_step': 4132, 'epoch_episode': 251, 'episode_step': 13, 'score': '0.000', 'eps': '0.909', 'elapsed': '2s'}\n",
      "2020-10-10 08:43:30,502 - drl - EPISODE - Train. - {'step': 4146, 'episode': 251, 'epoch': 0, 'epoch_step': 4146, 'epoch_episode': 252, 'episode_step': 13, 'score': '0.000', 'eps': '0.908', 'elapsed': '2s'}\n",
      "2020-10-10 08:43:32,039 - drl - EPISODE - Train. - {'step': 4160, 'episode': 252, 'epoch': 0, 'epoch_step': 4160, 'epoch_episode': 253, 'episode_step': 13, 'score': '0.000', 'eps': '0.906', 'elapsed': '2s'}\n",
      "2020-10-10 08:43:33,674 - drl - EPISODE - Train. - {'step': 4175, 'episode': 253, 'epoch': 0, 'epoch_step': 4175, 'epoch_episode': 254, 'episode_step': 14, 'score': '0.000', 'eps': '0.904', 'elapsed': '2s'}\n",
      "2020-10-10 08:43:35,261 - drl - EPISODE - Train. - {'step': 4189, 'episode': 254, 'epoch': 0, 'epoch_step': 4189, 'epoch_episode': 255, 'episode_step': 13, 'score': '0.000', 'eps': '0.902', 'elapsed': '2s'}\n",
      "2020-10-10 08:43:36,819 - drl - EPISODE - Train. - {'step': 4203, 'episode': 255, 'epoch': 0, 'epoch_step': 4203, 'epoch_episode': 256, 'episode_step': 13, 'score': '0.000', 'eps': '0.900', 'elapsed': '2s'}\n",
      "2020-10-10 08:43:38,454 - drl - EPISODE - Train. - {'step': 4217, 'episode': 256, 'epoch': 0, 'epoch_step': 4217, 'epoch_episode': 257, 'episode_step': 13, 'score': '0.000', 'eps': '0.898', 'elapsed': '2s'}\n",
      "2020-10-10 08:43:40,004 - drl - EPISODE - Train. - {'step': 4231, 'episode': 257, 'epoch': 0, 'epoch_step': 4231, 'epoch_episode': 258, 'episode_step': 13, 'score': '0.000', 'eps': '0.897', 'elapsed': '2s'}\n",
      "2020-10-10 08:43:41,727 - drl - EPISODE - Train. - {'step': 4246, 'episode': 258, 'epoch': 0, 'epoch_step': 4246, 'epoch_episode': 259, 'episode_step': 14, 'score': '0.000', 'eps': '0.895', 'elapsed': '2s'}\n",
      "2020-10-10 08:43:43,273 - drl - EPISODE - Train. - {'step': 4260, 'episode': 259, 'epoch': 0, 'epoch_step': 4260, 'epoch_episode': 260, 'episode_step': 13, 'score': '0.000', 'eps': '0.893', 'elapsed': '2s'}\n",
      "2020-10-10 08:43:44,808 - drl - EPISODE - Train. - {'step': 4274, 'episode': 260, 'epoch': 0, 'epoch_step': 4274, 'epoch_episode': 261, 'episode_step': 13, 'score': '0.000', 'eps': '0.891', 'elapsed': '2s'}\n",
      "2020-10-10 08:43:46,362 - drl - EPISODE - Train. - {'step': 4288, 'episode': 261, 'epoch': 0, 'epoch_step': 4288, 'epoch_episode': 262, 'episode_step': 13, 'score': '0.000', 'eps': '0.890', 'elapsed': '2s'}\n",
      "2020-10-10 08:43:47,920 - drl - EPISODE - Train. - {'step': 4302, 'episode': 262, 'epoch': 0, 'epoch_step': 4302, 'epoch_episode': 263, 'episode_step': 13, 'score': '0.000', 'eps': '0.888', 'elapsed': '2s'}\n",
      "2020-10-10 08:43:49,566 - drl - EPISODE - Train. - {'step': 4317, 'episode': 263, 'epoch': 0, 'epoch_step': 4317, 'epoch_episode': 264, 'episode_step': 14, 'score': '0.000', 'eps': '0.886', 'elapsed': '2s'}\n",
      "2020-10-10 08:43:51,121 - drl - EPISODE - Train. - {'step': 4331, 'episode': 264, 'epoch': 0, 'epoch_step': 4331, 'epoch_episode': 265, 'episode_step': 13, 'score': '0.000', 'eps': '0.884', 'elapsed': '2s'}\n",
      "2020-10-10 08:43:52,718 - drl - EPISODE - Train. - {'step': 4345, 'episode': 265, 'epoch': 0, 'epoch_step': 4345, 'epoch_episode': 266, 'episode_step': 13, 'score': '0.000', 'eps': '0.882', 'elapsed': '2s'}\n",
      "2020-10-10 08:43:54,287 - drl - EPISODE - Train. - {'step': 4359, 'episode': 266, 'epoch': 0, 'epoch_step': 4359, 'epoch_episode': 267, 'episode_step': 13, 'score': '0.000', 'eps': '0.881', 'elapsed': '2s'}\n",
      "2020-10-10 08:43:55,859 - drl - EPISODE - Train. - {'step': 4373, 'episode': 267, 'epoch': 0, 'epoch_step': 4373, 'epoch_episode': 268, 'episode_step': 13, 'score': '0.000', 'eps': '0.879', 'elapsed': '2s'}\n",
      "2020-10-10 08:43:57,525 - drl - EPISODE - Train. - {'step': 4388, 'episode': 268, 'epoch': 0, 'epoch_step': 4388, 'epoch_episode': 269, 'episode_step': 14, 'score': '0.000', 'eps': '0.877', 'elapsed': '2s'}\n",
      "2020-10-10 08:43:59,097 - drl - EPISODE - Train. - {'step': 4402, 'episode': 269, 'epoch': 0, 'epoch_step': 4402, 'epoch_episode': 270, 'episode_step': 13, 'score': '0.000', 'eps': '0.875', 'elapsed': '2s'}\n",
      "2020-10-10 08:44:00,672 - drl - EPISODE - Train. - {'step': 4416, 'episode': 270, 'epoch': 0, 'epoch_step': 4416, 'epoch_episode': 271, 'episode_step': 13, 'score': '0.000', 'eps': '0.874', 'elapsed': '2s'}\n",
      "2020-10-10 08:44:02,292 - drl - EPISODE - Train. - {'step': 4430, 'episode': 271, 'epoch': 0, 'epoch_step': 4430, 'epoch_episode': 272, 'episode_step': 13, 'score': '0.000', 'eps': '0.872', 'elapsed': '2s'}\n",
      "2020-10-10 08:44:03,856 - drl - EPISODE - Train. - {'step': 4444, 'episode': 272, 'epoch': 0, 'epoch_step': 4444, 'epoch_episode': 273, 'episode_step': 13, 'score': '0.000', 'eps': '0.870', 'elapsed': '2s'}\n",
      "2020-10-10 08:44:05,474 - drl - EPISODE - Train. - {'step': 4459, 'episode': 273, 'epoch': 0, 'epoch_step': 4459, 'epoch_episode': 274, 'episode_step': 14, 'score': '0.000', 'eps': '0.868', 'elapsed': '2s'}\n",
      "2020-10-10 08:44:07,031 - drl - EPISODE - Train. - {'step': 4473, 'episode': 274, 'epoch': 0, 'epoch_step': 4473, 'epoch_episode': 275, 'episode_step': 13, 'score': '0.000', 'eps': '0.867', 'elapsed': '2s'}\n",
      "2020-10-10 08:44:08,614 - drl - EPISODE - Train. - {'step': 4487, 'episode': 275, 'epoch': 0, 'epoch_step': 4487, 'epoch_episode': 276, 'episode_step': 13, 'score': '0.000', 'eps': '0.865', 'elapsed': '2s'}\n",
      "2020-10-10 08:44:10,190 - drl - EPISODE - Train. - {'step': 4501, 'episode': 276, 'epoch': 0, 'epoch_step': 4501, 'epoch_episode': 277, 'episode_step': 13, 'score': '0.000', 'eps': '0.863', 'elapsed': '2s'}\n",
      "2020-10-10 08:44:11,723 - drl - EPISODE - Train. - {'step': 4515, 'episode': 277, 'epoch': 0, 'epoch_step': 4515, 'epoch_episode': 278, 'episode_step': 13, 'score': '0.000', 'eps': '0.861', 'elapsed': '2s'}\n",
      "2020-10-10 08:44:13,390 - drl - EPISODE - Train. - {'step': 4530, 'episode': 278, 'epoch': 0, 'epoch_step': 4530, 'epoch_episode': 279, 'episode_step': 14, 'score': '0.000', 'eps': '0.860', 'elapsed': '2s'}\n",
      "2020-10-10 08:44:14,926 - drl - EPISODE - Train. - {'step': 4544, 'episode': 279, 'epoch': 0, 'epoch_step': 4544, 'epoch_episode': 280, 'episode_step': 13, 'score': '0.000', 'eps': '0.858', 'elapsed': '2s'}\n",
      "2020-10-10 08:44:16,474 - drl - EPISODE - Train. - {'step': 4558, 'episode': 280, 'epoch': 0, 'epoch_step': 4558, 'epoch_episode': 281, 'episode_step': 13, 'score': '0.000', 'eps': '0.856', 'elapsed': '2s'}\n",
      "2020-10-10 08:44:18,041 - drl - EPISODE - Train. - {'step': 4572, 'episode': 281, 'epoch': 0, 'epoch_step': 4572, 'epoch_episode': 282, 'episode_step': 13, 'score': '0.000', 'eps': '0.855', 'elapsed': '2s'}\n",
      "2020-10-10 08:44:19,615 - drl - EPISODE - Train. - {'step': 4586, 'episode': 282, 'epoch': 0, 'epoch_step': 4586, 'epoch_episode': 283, 'episode_step': 13, 'score': '0.000', 'eps': '0.853', 'elapsed': '2s'}\n",
      "2020-10-10 08:44:21,246 - drl - EPISODE - Train. - {'step': 4601, 'episode': 283, 'epoch': 0, 'epoch_step': 4601, 'epoch_episode': 284, 'episode_step': 14, 'score': '0.000', 'eps': '0.851', 'elapsed': '2s'}\n",
      "2020-10-10 08:44:22,773 - drl - EPISODE - Train. - {'step': 4615, 'episode': 284, 'epoch': 0, 'epoch_step': 4615, 'epoch_episode': 285, 'episode_step': 13, 'score': '0.000', 'eps': '0.850', 'elapsed': '2s'}\n",
      "2020-10-10 08:44:24,315 - drl - EPISODE - Train. - {'step': 4629, 'episode': 285, 'epoch': 0, 'epoch_step': 4629, 'epoch_episode': 286, 'episode_step': 13, 'score': '0.000', 'eps': '0.848', 'elapsed': '2s'}\n",
      "2020-10-10 08:44:25,867 - drl - EPISODE - Train. - {'step': 4643, 'episode': 286, 'epoch': 0, 'epoch_step': 4643, 'epoch_episode': 287, 'episode_step': 13, 'score': '0.000', 'eps': '0.846', 'elapsed': '2s'}\n",
      "2020-10-10 08:44:27,403 - drl - EPISODE - Train. - {'step': 4657, 'episode': 287, 'epoch': 0, 'epoch_step': 4657, 'epoch_episode': 288, 'episode_step': 13, 'score': '0.000', 'eps': '0.844', 'elapsed': '2s'}\n",
      "2020-10-10 08:44:29,086 - drl - EPISODE - Train. - {'step': 4672, 'episode': 288, 'epoch': 0, 'epoch_step': 4672, 'epoch_episode': 289, 'episode_step': 14, 'score': '0.000', 'eps': '0.843', 'elapsed': '2s'}\n",
      "2020-10-10 08:44:30,639 - drl - EPISODE - Train. - {'step': 4686, 'episode': 289, 'epoch': 0, 'epoch_step': 4686, 'epoch_episode': 290, 'episode_step': 13, 'score': '0.000', 'eps': '0.841', 'elapsed': '2s'}\n",
      "2020-10-10 08:44:32,197 - drl - EPISODE - Train. - {'step': 4700, 'episode': 290, 'epoch': 0, 'epoch_step': 4700, 'epoch_episode': 291, 'episode_step': 13, 'score': '0.000', 'eps': '0.839', 'elapsed': '2s'}\n",
      "2020-10-10 08:44:33,798 - drl - EPISODE - Train. - {'step': 4714, 'episode': 291, 'epoch': 0, 'epoch_step': 4714, 'epoch_episode': 292, 'episode_step': 13, 'score': '0.000', 'eps': '0.838', 'elapsed': '2s'}\n",
      "2020-10-10 08:44:35,435 - drl - EPISODE - Train. - {'step': 4728, 'episode': 292, 'epoch': 0, 'epoch_step': 4728, 'epoch_episode': 293, 'episode_step': 13, 'score': '0.000', 'eps': '0.836', 'elapsed': '2s'}\n",
      "2020-10-10 08:44:37,056 - drl - EPISODE - Train. - {'step': 4743, 'episode': 293, 'epoch': 0, 'epoch_step': 4743, 'epoch_episode': 294, 'episode_step': 14, 'score': '0.000', 'eps': '0.834', 'elapsed': '2s'}\n",
      "2020-10-10 08:44:38,629 - drl - EPISODE - Train. - {'step': 4757, 'episode': 294, 'epoch': 0, 'epoch_step': 4757, 'epoch_episode': 295, 'episode_step': 13, 'score': '0.000', 'eps': '0.833', 'elapsed': '2s'}\n",
      "2020-10-10 08:44:40,172 - drl - EPISODE - Train. - {'step': 4771, 'episode': 295, 'epoch': 0, 'epoch_step': 4771, 'epoch_episode': 296, 'episode_step': 13, 'score': '0.000', 'eps': '0.831', 'elapsed': '2s'}\n",
      "2020-10-10 08:44:41,764 - drl - EPISODE - Train. - {'step': 4785, 'episode': 296, 'epoch': 0, 'epoch_step': 4785, 'epoch_episode': 297, 'episode_step': 13, 'score': '0.000', 'eps': '0.829', 'elapsed': '2s'}\n",
      "2020-10-10 08:44:43,305 - drl - EPISODE - Train. - {'step': 4799, 'episode': 297, 'epoch': 0, 'epoch_step': 4799, 'epoch_episode': 298, 'episode_step': 13, 'score': '0.000', 'eps': '0.828', 'elapsed': '2s'}\n",
      "2020-10-10 08:44:44,987 - drl - EPISODE - Train. - {'step': 4814, 'episode': 298, 'epoch': 0, 'epoch_step': 4814, 'epoch_episode': 299, 'episode_step': 14, 'score': '0.000', 'eps': '0.826', 'elapsed': '2s'}\n",
      "2020-10-10 08:44:46,548 - drl - EPISODE - Train. - {'step': 4828, 'episode': 299, 'epoch': 0, 'epoch_step': 4828, 'epoch_episode': 300, 'episode_step': 13, 'score': '0.000', 'eps': '0.824', 'elapsed': '2s'}\n",
      "2020-10-10 08:44:48,100 - drl - EPISODE - Train. - {'step': 4842, 'episode': 300, 'epoch': 0, 'epoch_step': 4842, 'epoch_episode': 301, 'episode_step': 13, 'score': '0.000', 'eps': '0.823', 'elapsed': '2s'}\n",
      "2020-10-10 08:44:49,663 - drl - EPISODE - Train. - {'step': 4856, 'episode': 301, 'epoch': 0, 'epoch_step': 4856, 'epoch_episode': 302, 'episode_step': 13, 'score': '0.000', 'eps': '0.821', 'elapsed': '2s'}\n",
      "2020-10-10 08:44:51,224 - drl - EPISODE - Train. - {'step': 4870, 'episode': 302, 'epoch': 0, 'epoch_step': 4870, 'epoch_episode': 303, 'episode_step': 13, 'score': '0.000', 'eps': '0.819', 'elapsed': '2s'}\n",
      "2020-10-10 08:44:52,885 - drl - EPISODE - Train. - {'step': 4885, 'episode': 303, 'epoch': 0, 'epoch_step': 4885, 'epoch_episode': 304, 'episode_step': 14, 'score': '0.000', 'eps': '0.818', 'elapsed': '2s'}\n",
      "2020-10-10 08:44:54,475 - drl - EPISODE - Train. - {'step': 4899, 'episode': 304, 'epoch': 0, 'epoch_step': 4899, 'epoch_episode': 305, 'episode_step': 13, 'score': '0.000', 'eps': '0.816', 'elapsed': '2s'}\n",
      "2020-10-10 08:44:56,005 - drl - EPISODE - Train. - {'step': 4913, 'episode': 305, 'epoch': 0, 'epoch_step': 4913, 'epoch_episode': 306, 'episode_step': 13, 'score': '0.000', 'eps': '0.815', 'elapsed': '2s'}\n",
      "2020-10-10 08:44:57,594 - drl - EPISODE - Train. - {'step': 4927, 'episode': 306, 'epoch': 0, 'epoch_step': 4927, 'epoch_episode': 307, 'episode_step': 13, 'score': '0.000', 'eps': '0.813', 'elapsed': '2s'}\n",
      "2020-10-10 08:44:59,146 - drl - EPISODE - Train. - {'step': 4941, 'episode': 307, 'epoch': 0, 'epoch_step': 4941, 'epoch_episode': 308, 'episode_step': 13, 'score': '0.000', 'eps': '0.811', 'elapsed': '2s'}\n",
      "2020-10-10 08:45:01,117 - drl - EPISODE - Train. - {'step': 4959, 'episode': 308, 'epoch': 0, 'epoch_step': 4959, 'epoch_episode': 309, 'episode_step': 17, 'score': '0.000', 'eps': '0.810', 'elapsed': '2s'}\n",
      "2020-10-10 08:45:02,783 - drl - EPISODE - Train. - {'step': 4974, 'episode': 309, 'epoch': 0, 'epoch_step': 4974, 'epoch_episode': 310, 'episode_step': 14, 'score': '0.000', 'eps': '0.808', 'elapsed': '2s'}\n",
      "2020-10-10 08:45:04,323 - drl - EPISODE - Train. - {'step': 4988, 'episode': 310, 'epoch': 0, 'epoch_step': 4988, 'epoch_episode': 311, 'episode_step': 13, 'score': '0.000', 'eps': '0.806', 'elapsed': '2s'}\n",
      "2020-10-10 08:45:05,884 - drl - EPISODE - Train. - {'step': 5002, 'episode': 311, 'epoch': 0, 'epoch_step': 5002, 'epoch_episode': 312, 'episode_step': 13, 'score': '0.000', 'eps': '0.805', 'elapsed': '2s'}\n",
      "2020-10-10 08:45:07,430 - drl - EPISODE - Train. - {'step': 5016, 'episode': 312, 'epoch': 0, 'epoch_step': 5016, 'epoch_episode': 313, 'episode_step': 13, 'score': '0.000', 'eps': '0.803', 'elapsed': '2s'}\n",
      "2020-10-10 08:45:09,493 - drl - EPISODE - Train. - {'step': 5035, 'episode': 313, 'epoch': 0, 'epoch_step': 5035, 'epoch_episode': 314, 'episode_step': 18, 'score': '0.000', 'eps': '0.802', 'elapsed': '2s'}\n",
      "2020-10-10 08:45:11,465 - drl - EPISODE - Train. - {'step': 5053, 'episode': 314, 'epoch': 0, 'epoch_step': 5053, 'epoch_episode': 315, 'episode_step': 17, 'score': '0.000', 'eps': '0.800', 'elapsed': '2s'}\n",
      "2020-10-10 08:45:13,023 - drl - EPISODE - Train. - {'step': 5067, 'episode': 315, 'epoch': 0, 'epoch_step': 5067, 'epoch_episode': 316, 'episode_step': 13, 'score': '0.000', 'eps': '0.798', 'elapsed': '2s'}\n",
      "2020-10-10 08:45:14,615 - drl - EPISODE - Train. - {'step': 5081, 'episode': 316, 'epoch': 0, 'epoch_step': 5081, 'epoch_episode': 317, 'episode_step': 13, 'score': '0.000', 'eps': '0.797', 'elapsed': '2s'}\n",
      "2020-10-10 08:45:16,169 - drl - EPISODE - Train. - {'step': 5095, 'episode': 317, 'epoch': 0, 'epoch_step': 5095, 'epoch_episode': 318, 'episode_step': 13, 'score': '0.000', 'eps': '0.795', 'elapsed': '2s'}\n",
      "2020-10-10 08:45:17,856 - drl - EPISODE - Train. - {'step': 5110, 'episode': 318, 'epoch': 0, 'epoch_step': 5110, 'epoch_episode': 319, 'episode_step': 14, 'score': '0.000', 'eps': '0.794', 'elapsed': '2s'}\n",
      "2020-10-10 08:45:19,466 - drl - EPISODE - Train. - {'step': 5124, 'episode': 319, 'epoch': 0, 'epoch_step': 5124, 'epoch_episode': 320, 'episode_step': 13, 'score': '0.000', 'eps': '0.792', 'elapsed': '2s'}\n",
      "2020-10-10 08:45:21,012 - drl - EPISODE - Train. - {'step': 5138, 'episode': 320, 'epoch': 0, 'epoch_step': 5138, 'epoch_episode': 321, 'episode_step': 13, 'score': '0.000', 'eps': '0.790', 'elapsed': '2s'}\n",
      "2020-10-10 08:45:22,641 - drl - EPISODE - Train. - {'step': 5152, 'episode': 321, 'epoch': 0, 'epoch_step': 5152, 'epoch_episode': 322, 'episode_step': 13, 'score': '0.000', 'eps': '0.789', 'elapsed': '2s'}\n",
      "2020-10-10 08:45:26,259 - drl - EPISODE - Train. - {'step': 5185, 'episode': 322, 'epoch': 0, 'epoch_step': 5185, 'epoch_episode': 323, 'episode_step': 32, 'score': '0.050', 'eps': '0.787', 'elapsed': '4s'}\n",
      "2020-10-10 08:45:28,017 - drl - EPISODE - Train. - {'step': 5201, 'episode': 323, 'epoch': 0, 'epoch_step': 5201, 'epoch_episode': 324, 'episode_step': 15, 'score': '0.000', 'eps': '0.786', 'elapsed': '2s'}\n",
      "2020-10-10 08:45:29,575 - drl - EPISODE - Train. - {'step': 5215, 'episode': 324, 'epoch': 0, 'epoch_step': 5215, 'epoch_episode': 325, 'episode_step': 13, 'score': '0.000', 'eps': '0.784', 'elapsed': '2s'}\n",
      "2020-10-10 08:45:35,283 - drl - EPISODE - Train. - {'step': 5267, 'episode': 325, 'epoch': 0, 'epoch_step': 5267, 'epoch_episode': 326, 'episode_step': 51, 'score': '0.100', 'eps': '0.783', 'elapsed': '6s'}\n",
      "2020-10-10 08:45:42,089 - drl - EPISODE - Train. - {'step': 5329, 'episode': 326, 'epoch': 0, 'epoch_step': 5329, 'epoch_episode': 327, 'episode_step': 61, 'score': '0.100', 'eps': '0.781', 'elapsed': '7s'}\n",
      "2020-10-10 08:45:43,639 - drl - EPISODE - Train. - {'step': 5343, 'episode': 327, 'epoch': 0, 'epoch_step': 5343, 'epoch_episode': 328, 'episode_step': 13, 'score': '0.000', 'eps': '0.779', 'elapsed': '2s'}\n",
      "2020-10-10 08:45:45,304 - drl - EPISODE - Train. - {'step': 5358, 'episode': 328, 'epoch': 0, 'epoch_step': 5358, 'epoch_episode': 329, 'episode_step': 14, 'score': '0.000', 'eps': '0.778', 'elapsed': '2s'}\n",
      "2020-10-10 08:45:46,708 - drl - EPISODE - Train. - {'step': 5371, 'episode': 329, 'epoch': 0, 'epoch_step': 5371, 'epoch_episode': 330, 'episode_step': 12, 'score': '0.000', 'eps': '0.776', 'elapsed': '1s'}\n",
      "2020-10-10 08:45:48,398 - drl - EPISODE - Train. - {'step': 5386, 'episode': 330, 'epoch': 0, 'epoch_step': 5386, 'epoch_episode': 331, 'episode_step': 14, 'score': '0.000', 'eps': '0.775', 'elapsed': '2s'}\n",
      "2020-10-10 08:45:49,975 - drl - EPISODE - Train. - {'step': 5400, 'episode': 331, 'epoch': 0, 'epoch_step': 5400, 'epoch_episode': 332, 'episode_step': 13, 'score': '0.000', 'eps': '0.773', 'elapsed': '2s'}\n",
      "2020-10-10 08:45:51,514 - drl - EPISODE - Train. - {'step': 5414, 'episode': 332, 'epoch': 0, 'epoch_step': 5414, 'epoch_episode': 333, 'episode_step': 13, 'score': '0.000', 'eps': '0.772', 'elapsed': '2s'}\n",
      "2020-10-10 08:45:53,073 - drl - EPISODE - Train. - {'step': 5428, 'episode': 333, 'epoch': 0, 'epoch_step': 5428, 'epoch_episode': 334, 'episode_step': 13, 'score': '0.000', 'eps': '0.770', 'elapsed': '2s'}\n",
      "2020-10-10 08:45:54,636 - drl - EPISODE - Train. - {'step': 5442, 'episode': 334, 'epoch': 0, 'epoch_step': 5442, 'epoch_episode': 335, 'episode_step': 13, 'score': '0.000', 'eps': '0.769', 'elapsed': '2s'}\n",
      "2020-10-10 08:46:02,692 - drl - EPISODE - Train. - {'step': 5514, 'episode': 335, 'epoch': 0, 'epoch_step': 5514, 'epoch_episode': 336, 'episode_step': 71, 'score': '0.150', 'eps': '0.767', 'elapsed': '8s'}\n",
      "2020-10-10 08:46:06,258 - drl - EPISODE - Train. - {'step': 5546, 'episode': 336, 'epoch': 0, 'epoch_step': 5546, 'epoch_episode': 337, 'episode_step': 31, 'score': '0.050', 'eps': '0.766', 'elapsed': '4s'}\n",
      "2020-10-10 08:46:16,671 - drl - EPISODE - Train. - {'step': 5640, 'episode': 337, 'epoch': 0, 'epoch_step': 5640, 'epoch_episode': 338, 'episode_step': 93, 'score': '0.200', 'eps': '0.764', 'elapsed': '10s'}\n",
      "2020-10-10 08:46:20,274 - drl - EPISODE - Train. - {'step': 5673, 'episode': 338, 'epoch': 0, 'epoch_step': 5673, 'epoch_episode': 339, 'episode_step': 32, 'score': '0.050', 'eps': '0.762', 'elapsed': '4s'}\n",
      "2020-10-10 08:46:23,717 - drl - EPISODE - Train. - {'step': 5704, 'episode': 339, 'epoch': 0, 'epoch_step': 5704, 'epoch_episode': 340, 'episode_step': 30, 'score': '0.050', 'eps': '0.761', 'elapsed': '3s'}\n",
      "2020-10-10 08:46:27,079 - drl - EPISODE - Train. - {'step': 5735, 'episode': 340, 'epoch': 0, 'epoch_step': 5735, 'epoch_episode': 341, 'episode_step': 30, 'score': '0.050', 'eps': '0.759', 'elapsed': '3s'}\n",
      "2020-10-10 08:46:32,787 - drl - EPISODE - Train. - {'step': 5787, 'episode': 341, 'epoch': 0, 'epoch_step': 5787, 'epoch_episode': 342, 'episode_step': 51, 'score': '0.100', 'eps': '0.758', 'elapsed': '6s'}\n",
      "2020-10-10 08:46:38,457 - drl - EPISODE - Train. - {'step': 5839, 'episode': 342, 'epoch': 0, 'epoch_step': 5839, 'epoch_episode': 343, 'episode_step': 51, 'score': '0.100', 'eps': '0.756', 'elapsed': '6s'}\n",
      "2020-10-10 08:46:40,036 - drl - EPISODE - Train. - {'step': 5853, 'episode': 343, 'epoch': 0, 'epoch_step': 5853, 'epoch_episode': 344, 'episode_step': 13, 'score': '0.000', 'eps': '0.755', 'elapsed': '2s'}\n",
      "2020-10-10 08:46:45,633 - drl - EPISODE - Train. - {'step': 5904, 'episode': 344, 'epoch': 0, 'epoch_step': 5904, 'epoch_episode': 345, 'episode_step': 50, 'score': '0.100', 'eps': '0.753', 'elapsed': '6s'}\n",
      "2020-10-10 08:46:49,139 - drl - EPISODE - Train. - {'step': 5936, 'episode': 345, 'epoch': 0, 'epoch_step': 5936, 'epoch_episode': 346, 'episode_step': 31, 'score': '0.050', 'eps': '0.752', 'elapsed': '3s'}\n",
      "2020-10-10 08:46:50,694 - drl - EPISODE - Train. - {'step': 5950, 'episode': 346, 'epoch': 0, 'epoch_step': 5950, 'epoch_episode': 347, 'episode_step': 13, 'score': '0.000', 'eps': '0.750', 'elapsed': '2s'}\n",
      "2020-10-10 08:46:54,065 - drl - EPISODE - Train. - {'step': 5981, 'episode': 347, 'epoch': 0, 'epoch_step': 5981, 'epoch_episode': 348, 'episode_step': 30, 'score': '0.050', 'eps': '0.749', 'elapsed': '3s'}\n",
      "2020-10-10 08:46:55,740 - drl - EPISODE - Train. - {'step': 5996, 'episode': 348, 'epoch': 0, 'epoch_step': 5996, 'epoch_episode': 349, 'episode_step': 14, 'score': '0.000', 'eps': '0.747', 'elapsed': '2s'}\n",
      "2020-10-10 08:46:57,307 - drl - EPISODE - Train. - {'step': 6010, 'episode': 349, 'epoch': 0, 'epoch_step': 6010, 'epoch_episode': 350, 'episode_step': 13, 'score': '0.000', 'eps': '0.746', 'elapsed': '2s'}\n",
      "2020-10-10 08:46:58,882 - drl - EPISODE - Train. - {'step': 6024, 'episode': 350, 'epoch': 0, 'epoch_step': 6024, 'epoch_episode': 351, 'episode_step': 13, 'score': '0.000', 'eps': '0.744', 'elapsed': '2s'}\n",
      "2020-10-10 08:47:02,548 - drl - EPISODE - Train. - {'step': 6057, 'episode': 351, 'epoch': 0, 'epoch_step': 6057, 'epoch_episode': 352, 'episode_step': 32, 'score': '0.050', 'eps': '0.743', 'elapsed': '4s'}\n",
      "2020-10-10 08:47:06,102 - drl - EPISODE - Train. - {'step': 6089, 'episode': 352, 'epoch': 0, 'epoch_step': 6089, 'epoch_episode': 353, 'episode_step': 31, 'score': '0.050', 'eps': '0.741', 'elapsed': '4s'}\n",
      "2020-10-10 08:47:09,775 - drl - EPISODE - Train. - {'step': 6122, 'episode': 353, 'epoch': 0, 'epoch_step': 6122, 'epoch_episode': 354, 'episode_step': 32, 'score': '0.000', 'eps': '0.740', 'elapsed': '4s'}\n",
      "2020-10-10 08:47:17,894 - drl - EPISODE - Train. - {'step': 6196, 'episode': 354, 'epoch': 0, 'epoch_step': 6196, 'epoch_episode': 355, 'episode_step': 73, 'score': '0.150', 'eps': '0.738', 'elapsed': '8s'}\n",
      "2020-10-10 08:47:19,439 - drl - EPISODE - Train. - {'step': 6210, 'episode': 355, 'epoch': 0, 'epoch_step': 6210, 'epoch_episode': 356, 'episode_step': 13, 'score': '0.000', 'eps': '0.737', 'elapsed': '2s'}\n",
      "2020-10-10 08:47:20,999 - drl - EPISODE - Train. - {'step': 6224, 'episode': 356, 'epoch': 0, 'epoch_step': 6224, 'epoch_episode': 357, 'episode_step': 13, 'score': '0.000', 'eps': '0.735', 'elapsed': '2s'}\n",
      "2020-10-10 08:47:28,880 - drl - EPISODE - Train. - {'step': 6295, 'episode': 357, 'epoch': 0, 'epoch_step': 6295, 'epoch_episode': 358, 'episode_step': 70, 'score': '0.150', 'eps': '0.734', 'elapsed': '8s'}\n",
      "2020-10-10 08:47:30,438 - drl - EPISODE - Train. - {'step': 6309, 'episode': 358, 'epoch': 0, 'epoch_step': 6309, 'epoch_episode': 359, 'episode_step': 13, 'score': '0.000', 'eps': '0.733', 'elapsed': '2s'}\n",
      "2020-10-10 08:47:31,998 - drl - EPISODE - Train. - {'step': 6323, 'episode': 359, 'epoch': 0, 'epoch_step': 6323, 'epoch_episode': 360, 'episode_step': 13, 'score': '0.000', 'eps': '0.731', 'elapsed': '2s'}\n",
      "2020-10-10 08:47:33,529 - drl - EPISODE - Train. - {'step': 6337, 'episode': 360, 'epoch': 0, 'epoch_step': 6337, 'epoch_episode': 361, 'episode_step': 13, 'score': '0.000', 'eps': '0.730', 'elapsed': '2s'}\n",
      "2020-10-10 08:47:35,077 - drl - EPISODE - Train. - {'step': 6351, 'episode': 361, 'epoch': 0, 'epoch_step': 6351, 'epoch_episode': 362, 'episode_step': 13, 'score': '0.000', 'eps': '0.728', 'elapsed': '2s'}\n",
      "2020-10-10 08:47:36,635 - drl - EPISODE - Train. - {'step': 6365, 'episode': 362, 'epoch': 0, 'epoch_step': 6365, 'epoch_episode': 363, 'episode_step': 13, 'score': '0.000', 'eps': '0.727', 'elapsed': '2s'}\n",
      "2020-10-10 08:47:38,193 - drl - EPISODE - Train. - {'step': 6379, 'episode': 363, 'epoch': 0, 'epoch_step': 6379, 'epoch_episode': 364, 'episode_step': 13, 'score': '0.000', 'eps': '0.725', 'elapsed': '2s'}\n",
      "2020-10-10 08:47:39,802 - drl - EPISODE - Train. - {'step': 6393, 'episode': 364, 'epoch': 0, 'epoch_step': 6393, 'epoch_episode': 365, 'episode_step': 13, 'score': '0.000', 'eps': '0.724', 'elapsed': '2s'}\n",
      "2020-10-10 08:47:41,336 - drl - EPISODE - Train. - {'step': 6407, 'episode': 365, 'epoch': 0, 'epoch_step': 6407, 'epoch_episode': 366, 'episode_step': 13, 'score': '0.000', 'eps': '0.722', 'elapsed': '2s'}\n",
      "2020-10-10 08:47:42,966 - drl - EPISODE - Train. - {'step': 6421, 'episode': 366, 'epoch': 0, 'epoch_step': 6421, 'epoch_episode': 367, 'episode_step': 13, 'score': '0.000', 'eps': '0.721', 'elapsed': '2s'}\n",
      "2020-10-10 08:47:44,500 - drl - EPISODE - Train. - {'step': 6435, 'episode': 367, 'epoch': 0, 'epoch_step': 6435, 'epoch_episode': 368, 'episode_step': 13, 'score': '0.000', 'eps': '0.719', 'elapsed': '2s'}\n",
      "2020-10-10 08:47:46,037 - drl - EPISODE - Train. - {'step': 6449, 'episode': 368, 'epoch': 0, 'epoch_step': 6449, 'epoch_episode': 369, 'episode_step': 13, 'score': '0.000', 'eps': '0.718', 'elapsed': '2s'}\n",
      "2020-10-10 08:47:47,575 - drl - EPISODE - Train. - {'step': 6463, 'episode': 369, 'epoch': 0, 'epoch_step': 6463, 'epoch_episode': 370, 'episode_step': 13, 'score': '0.000', 'eps': '0.717', 'elapsed': '2s'}\n",
      "2020-10-10 08:47:53,326 - drl - EPISODE - Train. - {'step': 6515, 'episode': 370, 'epoch': 0, 'epoch_step': 6515, 'epoch_episode': 371, 'episode_step': 51, 'score': '0.100', 'eps': '0.715', 'elapsed': '6s'}\n",
      "2020-10-10 08:47:54,886 - drl - EPISODE - Train. - {'step': 6529, 'episode': 371, 'epoch': 0, 'epoch_step': 6529, 'epoch_episode': 372, 'episode_step': 13, 'score': '0.000', 'eps': '0.714', 'elapsed': '2s'}\n",
      "2020-10-10 08:47:56,442 - drl - EPISODE - Train. - {'step': 6543, 'episode': 372, 'epoch': 0, 'epoch_step': 6543, 'epoch_episode': 373, 'episode_step': 13, 'score': '0.000', 'eps': '0.712', 'elapsed': '2s'}\n",
      "2020-10-10 08:47:57,991 - drl - EPISODE - Train. - {'step': 6557, 'episode': 373, 'epoch': 0, 'epoch_step': 6557, 'epoch_episode': 374, 'episode_step': 13, 'score': '0.000', 'eps': '0.711', 'elapsed': '2s'}\n",
      "2020-10-10 08:48:03,530 - drl - EPISODE - Train. - {'step': 6607, 'episode': 374, 'epoch': 0, 'epoch_step': 6607, 'epoch_episode': 375, 'episode_step': 49, 'score': '0.050', 'eps': '0.709', 'elapsed': '6s'}\n",
      "2020-10-10 08:48:09,308 - drl - EPISODE - Train. - {'step': 6659, 'episode': 375, 'epoch': 0, 'epoch_step': 6659, 'epoch_episode': 376, 'episode_step': 51, 'score': '0.100', 'eps': '0.708', 'elapsed': '6s'}\n",
      "2020-10-10 08:48:10,859 - drl - EPISODE - Train. - {'step': 6673, 'episode': 376, 'epoch': 0, 'epoch_step': 6673, 'epoch_episode': 377, 'episode_step': 13, 'score': '0.000', 'eps': '0.707', 'elapsed': '2s'}\n",
      "2020-10-10 08:48:12,410 - drl - EPISODE - Train. - {'step': 6687, 'episode': 377, 'epoch': 0, 'epoch_step': 6687, 'epoch_episode': 378, 'episode_step': 13, 'score': '0.000', 'eps': '0.705', 'elapsed': '2s'}\n",
      "2020-10-10 08:48:18,194 - drl - EPISODE - Train. - {'step': 6739, 'episode': 378, 'epoch': 0, 'epoch_step': 6739, 'epoch_episode': 379, 'episode_step': 51, 'score': '0.100', 'eps': '0.704', 'elapsed': '6s'}\n",
      "2020-10-10 08:48:19,652 - drl - EPISODE - Train. - {'step': 6752, 'episode': 379, 'epoch': 0, 'epoch_step': 6752, 'epoch_episode': 380, 'episode_step': 12, 'score': '0.000', 'eps': '0.702', 'elapsed': '1s'}\n",
      "2020-10-10 08:48:42,105 - drl - EPISODE - Train. - {'step': 6956, 'episode': 380, 'epoch': 0, 'epoch_step': 6956, 'epoch_episode': 381, 'episode_step': 203, 'score': '0.500', 'eps': '0.701', 'elapsed': '22s'}\n",
      "2020-10-10 08:48:51,963 - drl - EPISODE - Train. - {'step': 7046, 'episode': 381, 'epoch': 0, 'epoch_step': 7046, 'epoch_episode': 382, 'episode_step': 89, 'score': '0.200', 'eps': '0.700', 'elapsed': '10s'}\n",
      "2020-10-10 08:48:55,329 - drl - EPISODE - Train. - {'step': 7077, 'episode': 382, 'epoch': 0, 'epoch_step': 7077, 'epoch_episode': 383, 'episode_step': 30, 'score': '0.050', 'eps': '0.698', 'elapsed': '3s'}\n",
      "2020-10-10 08:48:58,882 - drl - EPISODE - Train. - {'step': 7109, 'episode': 383, 'epoch': 0, 'epoch_step': 7109, 'epoch_episode': 384, 'episode_step': 31, 'score': '0.050', 'eps': '0.697', 'elapsed': '4s'}\n",
      "2020-10-10 08:49:04,821 - drl - EPISODE - Train. - {'step': 7163, 'episode': 384, 'epoch': 0, 'epoch_step': 7163, 'epoch_episode': 385, 'episode_step': 53, 'score': '0.100', 'eps': '0.695', 'elapsed': '6s'}\n",
      "2020-10-10 08:49:06,600 - drl - EPISODE - Train. - {'step': 7179, 'episode': 385, 'epoch': 0, 'epoch_step': 7179, 'epoch_episode': 386, 'episode_step': 15, 'score': '0.000', 'eps': '0.694', 'elapsed': '2s'}\n",
      "2020-10-10 08:49:08,229 - drl - EPISODE - Train. - {'step': 7193, 'episode': 386, 'epoch': 0, 'epoch_step': 7193, 'epoch_episode': 387, 'episode_step': 13, 'score': '0.000', 'eps': '0.693', 'elapsed': '2s'}\n",
      "2020-10-10 08:49:24,535 - drl - EPISODE - Train. - {'step': 7341, 'episode': 387, 'epoch': 0, 'epoch_step': 7341, 'epoch_episode': 388, 'episode_step': 147, 'score': '0.350', 'eps': '0.691', 'elapsed': '16s'}\n",
      "2020-10-10 08:49:30,189 - drl - EPISODE - Train. - {'step': 7392, 'episode': 388, 'epoch': 0, 'epoch_step': 7392, 'epoch_episode': 389, 'episode_step': 50, 'score': '0.100', 'eps': '0.690', 'elapsed': '6s'}\n",
      "2020-10-10 08:49:42,316 - drl - EPISODE - Train. - {'step': 7502, 'episode': 389, 'epoch': 0, 'epoch_step': 7502, 'epoch_episode': 390, 'episode_step': 109, 'score': '0.250', 'eps': '0.688', 'elapsed': '12s'}\n",
      "2020-10-10 08:49:48,117 - drl - EPISODE - Train. - {'step': 7555, 'episode': 390, 'epoch': 0, 'epoch_step': 7555, 'epoch_episode': 391, 'episode_step': 52, 'score': '0.100', 'eps': '0.687', 'elapsed': '6s'}\n",
      "2020-10-10 08:50:04,134 - drl - EPISODE - Train. - {'step': 7700, 'episode': 391, 'epoch': 0, 'epoch_step': 7700, 'epoch_episode': 392, 'episode_step': 144, 'score': '0.350', 'eps': '0.686', 'elapsed': '16s'}\n",
      "2020-10-10 08:50:07,408 - drl - EPISODE - Train. - {'step': 7730, 'episode': 392, 'epoch': 0, 'epoch_step': 7730, 'epoch_episode': 393, 'episode_step': 29, 'score': '0.050', 'eps': '0.684', 'elapsed': '3s'}\n",
      "2020-10-10 08:50:09,048 - drl - EPISODE - Train. - {'step': 7744, 'episode': 393, 'epoch': 0, 'epoch_step': 7744, 'epoch_episode': 394, 'episode_step': 13, 'score': '0.000', 'eps': '0.683', 'elapsed': '2s'}\n",
      "2020-10-10 08:50:16,686 - drl - EPISODE - Train. - {'step': 7813, 'episode': 394, 'epoch': 0, 'epoch_step': 7813, 'epoch_episode': 395, 'episode_step': 68, 'score': '0.150', 'eps': '0.682', 'elapsed': '8s'}\n",
      "2020-10-10 08:50:32,656 - drl - EPISODE - Train. - {'step': 7958, 'episode': 395, 'epoch': 0, 'epoch_step': 7958, 'epoch_episode': 396, 'episode_step': 144, 'score': '0.350', 'eps': '0.680', 'elapsed': '16s'}\n",
      "2020-10-10 08:50:40,427 - drl - EPISODE - Train. - {'step': 8028, 'episode': 396, 'epoch': 0, 'epoch_step': 8028, 'epoch_episode': 397, 'episode_step': 69, 'score': '0.150', 'eps': '0.679', 'elapsed': '8s'}\n",
      "2020-10-10 08:50:41,985 - drl - EPISODE - Train. - {'step': 8042, 'episode': 397, 'epoch': 0, 'epoch_step': 8042, 'epoch_episode': 398, 'episode_step': 13, 'score': '0.000', 'eps': '0.678', 'elapsed': '2s'}\n",
      "2020-10-10 08:50:45,749 - drl - EPISODE - Train. - {'step': 8076, 'episode': 398, 'epoch': 0, 'epoch_step': 8076, 'epoch_episode': 399, 'episode_step': 33, 'score': '0.050', 'eps': '0.676', 'elapsed': '4s'}\n",
      "2020-10-10 08:50:49,263 - drl - EPISODE - Train. - {'step': 8108, 'episode': 399, 'epoch': 0, 'epoch_step': 8108, 'epoch_episode': 400, 'episode_step': 31, 'score': '0.050', 'eps': '0.675', 'elapsed': '4s'}\n",
      "2020-10-10 08:50:50,808 - drl - EPISODE - Train. - {'step': 8122, 'episode': 400, 'epoch': 0, 'epoch_step': 8122, 'epoch_episode': 401, 'episode_step': 13, 'score': '0.000', 'eps': '0.673', 'elapsed': '2s'}\n",
      "2020-10-10 08:50:54,472 - drl - EPISODE - Train. - {'step': 8155, 'episode': 401, 'epoch': 0, 'epoch_step': 8155, 'epoch_episode': 402, 'episode_step': 32, 'score': '0.050', 'eps': '0.672', 'elapsed': '4s'}\n",
      "2020-10-10 08:51:04,773 - drl - EPISODE - Train. - {'step': 8249, 'episode': 402, 'epoch': 0, 'epoch_step': 8249, 'epoch_episode': 403, 'episode_step': 93, 'score': '0.200', 'eps': '0.671', 'elapsed': '10s'}\n",
      "2020-10-10 08:51:06,307 - drl - EPISODE - Train. - {'step': 8263, 'episode': 403, 'epoch': 0, 'epoch_step': 8263, 'epoch_episode': 404, 'episode_step': 13, 'score': '0.000', 'eps': '0.669', 'elapsed': '2s'}\n",
      "2020-10-10 08:51:10,004 - drl - EPISODE - Train. - {'step': 8297, 'episode': 404, 'epoch': 0, 'epoch_step': 8297, 'epoch_episode': 405, 'episode_step': 33, 'score': '0.050', 'eps': '0.668', 'elapsed': '4s'}\n",
      "2020-10-10 08:51:11,677 - drl - EPISODE - Train. - {'step': 8312, 'episode': 405, 'epoch': 0, 'epoch_step': 8312, 'epoch_episode': 406, 'episode_step': 14, 'score': '0.000', 'eps': '0.667', 'elapsed': '2s'}\n",
      "2020-10-10 08:51:13,244 - drl - EPISODE - Train. - {'step': 8326, 'episode': 406, 'epoch': 0, 'epoch_step': 8326, 'epoch_episode': 407, 'episode_step': 13, 'score': '0.000', 'eps': '0.665', 'elapsed': '2s'}\n",
      "2020-10-10 08:51:24,213 - drl - EPISODE - Train. - {'step': 8424, 'episode': 407, 'epoch': 0, 'epoch_step': 8424, 'epoch_episode': 408, 'episode_step': 97, 'score': '0.200', 'eps': '0.664', 'elapsed': '11s'}\n",
      "2020-10-10 08:51:33,083 - drl - EPISODE - Train. - {'step': 8505, 'episode': 408, 'epoch': 0, 'epoch_step': 8505, 'epoch_episode': 409, 'episode_step': 80, 'score': '0.150', 'eps': '0.663', 'elapsed': '9s'}\n"
     ]
    }
   ],
   "source": [
    "scores = experiment.train()"
   ]
  },
  {
   "cell_type": "markdown",
   "metadata": {},
   "source": [
    "## Analasys"
   ]
  },
  {
   "cell_type": "markdown",
   "metadata": {},
   "source": [
    "The project is solved in epoch 32 after playing 1088 episodes."
   ]
  },
  {
   "cell_type": "code",
   "execution_count": 11,
   "metadata": {},
   "outputs": [
    {
     "name": "stdout",
     "output_type": "stream",
     "text": [
      "Session ID: tennis-linux-20201010T0830\n"
     ]
    }
   ],
   "source": [
    "session_id = experiment.get_session_id()\n",
    "print(\"Session ID: {}\".format(session_id))"
   ]
  },
  {
   "cell_type": "code",
   "execution_count": 12,
   "metadata": {},
   "outputs": [],
   "source": [
    "session_id = \"tennis-linux-20201010T0828\"\n",
    "\n",
    "analyzer = Analyzer(config, session_id)"
   ]
  },
  {
   "cell_type": "code",
   "execution_count": 13,
   "metadata": {},
   "outputs": [],
   "source": [
    "experiments = [\n",
    "    '_experiments/train/tennis-linux-20201004T1207',\n",
    "]"
   ]
  },
  {
   "cell_type": "code",
   "execution_count": 14,
   "metadata": {},
   "outputs": [
    {
     "data": {
      "image/png": "[encoded data removed]",
      "text/plain": [
       "<Figure size 432x288 with 1 Axes>"
      ]
     },
     "metadata": {
      "needs_background": "light"
     },
     "output_type": "display_data"
    },
    {
     "data": {
      "image/png": "[encoded data removed]",
      "text/plain": [
       "<Figure size 432x288 with 1 Axes>"
      ]
     },
     "metadata": {
      "needs_background": "light"
     },
     "output_type": "display_data"
    }
   ],
   "source": [
    "analyzer.compare_train_epoch_cols(experiments, 'avg_score', True)\n",
    "analyzer.compare_train_epoch_cols(experiments, 'epsilon', True)"
   ]
  },
  {
   "cell_type": "markdown",
   "metadata": {},
   "source": [
    "## Stored Models"
   ]
  },
  {
   "cell_type": "code",
   "execution_count": 15,
   "metadata": {},
   "outputs": [
    {
     "name": "stdout",
     "output_type": "stream",
     "text": [
      "config.json\n",
      "episode-log.csv\n",
      "epoch-log.csv\n",
      "tennislinux_current_actor_tennis-linux-20201004T1207_0_0.06_0.06_0.55.pth\n",
      "tennislinux_current_actor_tennis-linux-20201004T1207_1_0.12_0.16_0.39.pth\n",
      "tennislinux_current_actor_tennis-linux-20201004T1207_10_1.29_2.63_0.23.pth\n",
      "tennislinux_current_actor_tennis-linux-20201004T1207_11_0.85_2.63_0.21.pth\n",
      "tennislinux_current_actor_tennis-linux-20201004T1207_12_0.82_2.63_0.21.pth\n",
      "tennislinux_current_actor_tennis-linux-20201004T1207_13_0.91_1.73_0.20.pth\n",
      "tennislinux_current_actor_tennis-linux-20201004T1207_14_1.12_1.75_0.20.pth\n",
      "tennislinux_current_actor_tennis-linux-20201004T1207_2_0.28_2.63_0.35.pth\n",
      "tennislinux_current_actor_tennis-linux-20201004T1207_3_0.36_0.72_0.30.pth\n",
      "tennislinux_current_actor_tennis-linux-20201004T1207_4_0.57_1.30_0.29.pth\n",
      "tennislinux_current_actor_tennis-linux-20201004T1207_5_0.73_1.72_0.28.pth\n",
      "tennislinux_current_actor_tennis-linux-20201004T1207_6_0.97_2.63_0.28.pth\n",
      "tennislinux_current_actor_tennis-linux-20201004T1207_7_1.21_2.55_0.27.pth\n",
      "tennislinux_current_actor_tennis-linux-20201004T1207_8_1.43_2.63_0.26.pth\n",
      "tennislinux_current_actor_tennis-linux-20201004T1207_9_1.57_0.52_0.25.pth\n",
      "tennislinux_current_critic_tennis-linux-20201004T1207_0_0.06_0.06_0.55.pth\n",
      "tennislinux_current_critic_tennis-linux-20201004T1207_1_0.12_0.16_0.39.pth\n",
      "tennislinux_current_critic_tennis-linux-20201004T1207_10_1.29_2.63_0.23.pth\n",
      "tennislinux_current_critic_tennis-linux-20201004T1207_11_0.85_2.63_0.21.pth\n",
      "tennislinux_current_critic_tennis-linux-20201004T1207_12_0.82_2.63_0.21.pth\n",
      "tennislinux_current_critic_tennis-linux-20201004T1207_13_0.91_1.73_0.20.pth\n",
      "tennislinux_current_critic_tennis-linux-20201004T1207_14_1.12_1.75_0.20.pth\n",
      "tennislinux_current_critic_tennis-linux-20201004T1207_2_0.28_2.63_0.35.pth\n",
      "tennislinux_current_critic_tennis-linux-20201004T1207_3_0.36_0.72_0.30.pth\n",
      "tennislinux_current_critic_tennis-linux-20201004T1207_4_0.57_1.30_0.29.pth\n",
      "tennislinux_current_critic_tennis-linux-20201004T1207_5_0.73_1.72_0.28.pth\n",
      "tennislinux_current_critic_tennis-linux-20201004T1207_6_0.97_2.63_0.28.pth\n",
      "tennislinux_current_critic_tennis-linux-20201004T1207_7_1.21_2.55_0.27.pth\n",
      "tennislinux_current_critic_tennis-linux-20201004T1207_8_1.43_2.63_0.26.pth\n",
      "tennislinux_current_critic_tennis-linux-20201004T1207_9_1.57_0.52_0.25.pth\n"
     ]
    }
   ],
   "source": [
    "!ls _experiments/train/tennis-linux-20201004T1207"
   ]
  },
  {
   "cell_type": "markdown",
   "metadata": {},
   "source": [
    "## Play With a Trained Agent"
   ]
  },
  {
   "cell_type": "code",
   "execution_count": 16,
   "metadata": {},
   "outputs": [
    {
     "name": "stdout",
     "output_type": "stream",
     "text": [
      "2020-10-10 08:30:34,744 - drl - INFO - Initializing environment.' - {'name': 'env/unity/linux/tennis-novis/Tennis.x86_64'}\n"
     ]
    },
    {
     "name": "stderr",
     "output_type": "stream",
     "text": [
      "INFO:unityagents:\n",
      "'Academy' started successfully!\n",
      "Unity Academy name: Academy\n",
      "        Number of Brains: 1\n",
      "        Number of External Brains : 1\n",
      "        Lesson number : 0\n",
      "        Reset Parameters :\n",
      "\t\t\n",
      "Unity brain name: TennisBrain\n",
      "        Number of Visual Observations (per agent): 0\n",
      "        Vector Observation space type: continuous\n",
      "        Vector Observation space size (per agent): 8\n",
      "        Number of stacked Vector Observation: 3\n",
      "        Vector Action space type: continuous\n",
      "        Vector Action space size (per agent): 2\n",
      "        Vector Action descriptions: , \n"
     ]
    },
    {
     "name": "stdout",
     "output_type": "stream",
     "text": [
      "2020-10-10 08:30:39,697 - drl - EPISODE - Play. - {'episode': 0, 'score': '-0.005', 'elapsed': '1.760s'}\n",
      "2020-10-10 08:31:52,391 - drl - EPISODE - Play. - {'episode': 1, 'score': '1.795', 'elapsed': '72.678s'}\n"
     ]
    }
   ],
   "source": [
    "scores, mean = experiment.play(\n",
    "    mode='train', # human, train\n",
    "    model='_experiments/train/tennis-linux-20201004T1207/tennislinux_current_actor_tennis-linux-20201004T1207_9_1.57_0.52_0.25.pth',\n",
    "    num_episodes=2)"
   ]
  },
  {
   "cell_type": "code",
   "execution_count": 17,
   "metadata": {},
   "outputs": [
    {
     "name": "stdout",
     "output_type": "stream",
     "text": [
      "Average score over 2 episodes is 0.8950000135228038\n"
     ]
    }
   ],
   "source": [
    "print(\"Average score over {} episodes is {}\".format(len(scores), mean))"
   ]
  },
  {
   "cell_type": "code",
   "execution_count": null,
   "metadata": {},
   "outputs": [],
   "source": []
  }
 ],
 "metadata": {
  "kernelspec": {
   "display_name": "Python 3",
   "language": "python",
   "name": "python3"
  },
  "language_info": {
   "codemirror_mode": {
    "name": "ipython",
    "version": 3
   },
   "file_extension": ".py",
   "mimetype": "text/x-python",
   "name": "python",
   "nbconvert_exporter": "python",
   "pygments_lexer": "ipython3",
   "version": "3.6.10"
  }
 },
 "nbformat": 4,
 "nbformat_minor": 4
}
